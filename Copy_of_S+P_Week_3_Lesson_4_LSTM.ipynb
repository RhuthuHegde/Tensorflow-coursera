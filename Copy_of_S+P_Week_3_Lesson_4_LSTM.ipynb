{
  "nbformat": 4,
  "nbformat_minor": 0,
  "metadata": {
    "colab": {
      "name": "Copy of S+P Week 3 Lesson 4 - LSTM.ipynb",
      "provenance": [],
      "collapsed_sections": [],
      "toc_visible": true,
      "include_colab_link": true
    },
    "kernelspec": {
      "display_name": "Python 3",
      "name": "python3"
    }
  },
  "cells": [
    {
      "cell_type": "markdown",
      "metadata": {
        "id": "view-in-github",
        "colab_type": "text"
      },
      "source": [
        "<a href=\"https://colab.research.google.com/github/RhuthuHegde/Tensorflow-coursera/blob/master/Copy_of_S%2BP_Week_3_Lesson_4_LSTM.ipynb\" target=\"_parent\"><img src=\"https://colab.research.google.com/assets/colab-badge.svg\" alt=\"Open In Colab\"/></a>"
      ]
    },
    {
      "cell_type": "code",
      "metadata": {
        "id": "zX4Kg8DUTKWO",
        "colab_type": "code",
        "colab": {}
      },
      "source": [
        "#@title Licensed under the Apache License, Version 2.0 (the \"License\");\n",
        "# you may not use this file except in compliance with the License.\n",
        "# You may obtain a copy of the License at\n",
        "#\n",
        "# https://www.apache.org/licenses/LICENSE-2.0\n",
        "#\n",
        "# Unless required by applicable law or agreed to in writing, software\n",
        "# distributed under the License is distributed on an \"AS IS\" BASIS,\n",
        "# WITHOUT WARRANTIES OR CONDITIONS OF ANY KIND, either express or implied.\n",
        "# See the License for the specific language governing permissions and\n",
        "# limitations under the License."
      ],
      "execution_count": null,
      "outputs": []
    },
    {
      "cell_type": "code",
      "metadata": {
        "colab_type": "code",
        "id": "D1J15Vh_1Jih",
        "colab": {
          "base_uri": "https://localhost:8080/",
          "height": 1000
        },
        "outputId": "2dd4482b-7643-4c10-8dfd-22cffdefb52e"
      },
      "source": [
        "!pip install tensorflow==2.0.0\n"
      ],
      "execution_count": null,
      "outputs": [
        {
          "output_type": "stream",
          "text": [
            "Collecting tensorflow==2.0.0\n",
            "\u001b[?25l  Downloading https://files.pythonhosted.org/packages/46/0f/7bd55361168bb32796b360ad15a25de6966c9c1beb58a8e30c01c8279862/tensorflow-2.0.0-cp36-cp36m-manylinux2010_x86_64.whl (86.3MB)\n",
            "\u001b[K     |████████████████████████████████| 86.3MB 110kB/s \n",
            "\u001b[?25hRequirement already satisfied: astor>=0.6.0 in /usr/local/lib/python3.6/dist-packages (from tensorflow==2.0.0) (0.8.1)\n",
            "Collecting tensorflow-estimator<2.1.0,>=2.0.0\n",
            "\u001b[?25l  Downloading https://files.pythonhosted.org/packages/fc/08/8b927337b7019c374719145d1dceba21a8bb909b93b1ad6f8fb7d22c1ca1/tensorflow_estimator-2.0.1-py2.py3-none-any.whl (449kB)\n",
            "\u001b[K     |████████████████████████████████| 450kB 40.7MB/s \n",
            "\u001b[?25hRequirement already satisfied: termcolor>=1.1.0 in /usr/local/lib/python3.6/dist-packages (from tensorflow==2.0.0) (1.1.0)\n",
            "Requirement already satisfied: six>=1.10.0 in /usr/local/lib/python3.6/dist-packages (from tensorflow==2.0.0) (1.15.0)\n",
            "Requirement already satisfied: wrapt>=1.11.1 in /usr/local/lib/python3.6/dist-packages (from tensorflow==2.0.0) (1.12.1)\n",
            "Requirement already satisfied: wheel>=0.26 in /usr/local/lib/python3.6/dist-packages (from tensorflow==2.0.0) (0.34.2)\n",
            "Collecting keras-applications>=1.0.8\n",
            "\u001b[?25l  Downloading https://files.pythonhosted.org/packages/71/e3/19762fdfc62877ae9102edf6342d71b28fbfd9dea3d2f96a882ce099b03f/Keras_Applications-1.0.8-py3-none-any.whl (50kB)\n",
            "\u001b[K     |████████████████████████████████| 51kB 6.0MB/s \n",
            "\u001b[?25hRequirement already satisfied: absl-py>=0.7.0 in /usr/local/lib/python3.6/dist-packages (from tensorflow==2.0.0) (0.9.0)\n",
            "Requirement already satisfied: keras-preprocessing>=1.0.5 in /usr/local/lib/python3.6/dist-packages (from tensorflow==2.0.0) (1.1.2)\n",
            "Collecting gast==0.2.2\n",
            "  Downloading https://files.pythonhosted.org/packages/4e/35/11749bf99b2d4e3cceb4d55ca22590b0d7c2c62b9de38ac4a4a7f4687421/gast-0.2.2.tar.gz\n",
            "Collecting tensorboard<2.1.0,>=2.0.0\n",
            "\u001b[?25l  Downloading https://files.pythonhosted.org/packages/76/54/99b9d5d52d5cb732f099baaaf7740403e83fe6b0cedde940fabd2b13d75a/tensorboard-2.0.2-py3-none-any.whl (3.8MB)\n",
            "\u001b[K     |████████████████████████████████| 3.8MB 41.0MB/s \n",
            "\u001b[?25hRequirement already satisfied: numpy<2.0,>=1.16.0 in /usr/local/lib/python3.6/dist-packages (from tensorflow==2.0.0) (1.18.5)\n",
            "Requirement already satisfied: opt-einsum>=2.3.2 in /usr/local/lib/python3.6/dist-packages (from tensorflow==2.0.0) (3.3.0)\n",
            "Requirement already satisfied: google-pasta>=0.1.6 in /usr/local/lib/python3.6/dist-packages (from tensorflow==2.0.0) (0.2.0)\n",
            "Requirement already satisfied: grpcio>=1.8.6 in /usr/local/lib/python3.6/dist-packages (from tensorflow==2.0.0) (1.31.0)\n",
            "Requirement already satisfied: protobuf>=3.6.1 in /usr/local/lib/python3.6/dist-packages (from tensorflow==2.0.0) (3.12.4)\n",
            "Requirement already satisfied: h5py in /usr/local/lib/python3.6/dist-packages (from keras-applications>=1.0.8->tensorflow==2.0.0) (2.10.0)\n",
            "Requirement already satisfied: requests<3,>=2.21.0 in /usr/local/lib/python3.6/dist-packages (from tensorboard<2.1.0,>=2.0.0->tensorflow==2.0.0) (2.23.0)\n",
            "Requirement already satisfied: google-auth-oauthlib<0.5,>=0.4.1 in /usr/local/lib/python3.6/dist-packages (from tensorboard<2.1.0,>=2.0.0->tensorflow==2.0.0) (0.4.1)\n",
            "Requirement already satisfied: setuptools>=41.0.0 in /usr/local/lib/python3.6/dist-packages (from tensorboard<2.1.0,>=2.0.0->tensorflow==2.0.0) (49.2.0)\n",
            "Requirement already satisfied: google-auth<2,>=1.6.3 in /usr/local/lib/python3.6/dist-packages (from tensorboard<2.1.0,>=2.0.0->tensorflow==2.0.0) (1.17.2)\n",
            "Requirement already satisfied: werkzeug>=0.11.15 in /usr/local/lib/python3.6/dist-packages (from tensorboard<2.1.0,>=2.0.0->tensorflow==2.0.0) (1.0.1)\n",
            "Requirement already satisfied: markdown>=2.6.8 in /usr/local/lib/python3.6/dist-packages (from tensorboard<2.1.0,>=2.0.0->tensorflow==2.0.0) (3.2.2)\n",
            "Requirement already satisfied: chardet<4,>=3.0.2 in /usr/local/lib/python3.6/dist-packages (from requests<3,>=2.21.0->tensorboard<2.1.0,>=2.0.0->tensorflow==2.0.0) (3.0.4)\n",
            "Requirement already satisfied: certifi>=2017.4.17 in /usr/local/lib/python3.6/dist-packages (from requests<3,>=2.21.0->tensorboard<2.1.0,>=2.0.0->tensorflow==2.0.0) (2020.6.20)\n",
            "Requirement already satisfied: urllib3!=1.25.0,!=1.25.1,<1.26,>=1.21.1 in /usr/local/lib/python3.6/dist-packages (from requests<3,>=2.21.0->tensorboard<2.1.0,>=2.0.0->tensorflow==2.0.0) (1.24.3)\n",
            "Requirement already satisfied: idna<3,>=2.5 in /usr/local/lib/python3.6/dist-packages (from requests<3,>=2.21.0->tensorboard<2.1.0,>=2.0.0->tensorflow==2.0.0) (2.10)\n",
            "Requirement already satisfied: requests-oauthlib>=0.7.0 in /usr/local/lib/python3.6/dist-packages (from google-auth-oauthlib<0.5,>=0.4.1->tensorboard<2.1.0,>=2.0.0->tensorflow==2.0.0) (1.3.0)\n",
            "Requirement already satisfied: rsa<5,>=3.1.4; python_version >= \"3\" in /usr/local/lib/python3.6/dist-packages (from google-auth<2,>=1.6.3->tensorboard<2.1.0,>=2.0.0->tensorflow==2.0.0) (4.6)\n",
            "Requirement already satisfied: pyasn1-modules>=0.2.1 in /usr/local/lib/python3.6/dist-packages (from google-auth<2,>=1.6.3->tensorboard<2.1.0,>=2.0.0->tensorflow==2.0.0) (0.2.8)\n",
            "Requirement already satisfied: cachetools<5.0,>=2.0.0 in /usr/local/lib/python3.6/dist-packages (from google-auth<2,>=1.6.3->tensorboard<2.1.0,>=2.0.0->tensorflow==2.0.0) (4.1.1)\n",
            "Requirement already satisfied: importlib-metadata; python_version < \"3.8\" in /usr/local/lib/python3.6/dist-packages (from markdown>=2.6.8->tensorboard<2.1.0,>=2.0.0->tensorflow==2.0.0) (1.7.0)\n",
            "Requirement already satisfied: oauthlib>=3.0.0 in /usr/local/lib/python3.6/dist-packages (from requests-oauthlib>=0.7.0->google-auth-oauthlib<0.5,>=0.4.1->tensorboard<2.1.0,>=2.0.0->tensorflow==2.0.0) (3.1.0)\n",
            "Requirement already satisfied: pyasn1>=0.1.3 in /usr/local/lib/python3.6/dist-packages (from rsa<5,>=3.1.4; python_version >= \"3\"->google-auth<2,>=1.6.3->tensorboard<2.1.0,>=2.0.0->tensorflow==2.0.0) (0.4.8)\n",
            "Requirement already satisfied: zipp>=0.5 in /usr/local/lib/python3.6/dist-packages (from importlib-metadata; python_version < \"3.8\"->markdown>=2.6.8->tensorboard<2.1.0,>=2.0.0->tensorflow==2.0.0) (3.1.0)\n",
            "Building wheels for collected packages: gast\n",
            "  Building wheel for gast (setup.py) ... \u001b[?25l\u001b[?25hdone\n",
            "  Created wheel for gast: filename=gast-0.2.2-cp36-none-any.whl size=7540 sha256=3eb6d40b38fd921d92b3c7fd5d467eaa93101280f7e224f1fdc8a4bd3ad272e1\n",
            "  Stored in directory: /root/.cache/pip/wheels/5c/2e/7e/a1d4d4fcebe6c381f378ce7743a3ced3699feb89bcfbdadadd\n",
            "Successfully built gast\n",
            "\u001b[31mERROR: tensorflow-probability 0.11.0 has requirement gast>=0.3.2, but you'll have gast 0.2.2 which is incompatible.\u001b[0m\n",
            "Installing collected packages: tensorflow-estimator, keras-applications, gast, tensorboard, tensorflow\n",
            "  Found existing installation: tensorflow-estimator 2.3.0\n",
            "    Uninstalling tensorflow-estimator-2.3.0:\n",
            "      Successfully uninstalled tensorflow-estimator-2.3.0\n",
            "  Found existing installation: gast 0.3.3\n",
            "    Uninstalling gast-0.3.3:\n",
            "      Successfully uninstalled gast-0.3.3\n",
            "  Found existing installation: tensorboard 2.3.0\n",
            "    Uninstalling tensorboard-2.3.0:\n",
            "      Successfully uninstalled tensorboard-2.3.0\n",
            "  Found existing installation: tensorflow 2.3.0\n",
            "    Uninstalling tensorflow-2.3.0:\n",
            "      Successfully uninstalled tensorflow-2.3.0\n",
            "Successfully installed gast-0.2.2 keras-applications-1.0.8 tensorboard-2.0.2 tensorflow-2.0.0 tensorflow-estimator-2.0.1\n"
          ],
          "name": "stdout"
        }
      ]
    },
    {
      "cell_type": "code",
      "metadata": {
        "colab_type": "code",
        "id": "BOjujz601HcS",
        "colab": {
          "base_uri": "https://localhost:8080/",
          "height": 34
        },
        "outputId": "3ace68c5-e0ec-4023-c48d-42434dc0aa58"
      },
      "source": [
        "import tensorflow as tf\n",
        "import numpy as np\n",
        "import matplotlib.pyplot as plt\n",
        "print(tf.__version__)"
      ],
      "execution_count": null,
      "outputs": [
        {
          "output_type": "stream",
          "text": [
            "2.0.0\n"
          ],
          "name": "stdout"
        }
      ]
    },
    {
      "cell_type": "code",
      "metadata": {
        "colab_type": "code",
        "id": "Zswl7jRtGzkk",
        "colab": {}
      },
      "source": [
        "def plot_series(time, series, format=\"-\", start=0, end=None):\n",
        "    plt.plot(time[start:end], series[start:end], format)\n",
        "    plt.xlabel(\"Time\")\n",
        "    plt.ylabel(\"Value\")\n",
        "    plt.grid(True)\n",
        "\n",
        "def trend(time, slope=0):\n",
        "    return slope * time\n",
        "\n",
        "def seasonal_pattern(season_time):\n",
        "    \"\"\"Just an arbitrary pattern, you can change it if you wish\"\"\"\n",
        "    return np.where(season_time < 0.4,\n",
        "                    np.cos(season_time * 2 * np.pi),\n",
        "                    1 / np.exp(3 * season_time))\n",
        "\n",
        "def seasonality(time, period, amplitude=1, phase=0):\n",
        "    \"\"\"Repeats the same pattern at each period\"\"\"\n",
        "    season_time = ((time + phase) % period) / period\n",
        "    return amplitude * seasonal_pattern(season_time)\n",
        "\n",
        "def noise(time, noise_level=1, seed=None):\n",
        "    rnd = np.random.RandomState(seed)\n",
        "    return rnd.randn(len(time)) * noise_level\n",
        "\n",
        "time = np.arange(4 * 365 + 1, dtype=\"float32\")\n",
        "baseline = 10\n",
        "series = trend(time, 0.1)  \n",
        "baseline = 10\n",
        "amplitude = 40\n",
        "slope = 0.05\n",
        "noise_level = 5\n",
        "\n",
        "# Create the series\n",
        "series = baseline + trend(time, slope) + seasonality(time, period=365, amplitude=amplitude)\n",
        "# Update with noise\n",
        "series += noise(time, noise_level, seed=42)\n",
        "\n",
        "split_time = 1000\n",
        "time_train = time[:split_time]\n",
        "x_train = series[:split_time]\n",
        "time_valid = time[split_time:]\n",
        "x_valid = series[split_time:]\n",
        "\n",
        "window_size = 20\n",
        "batch_size = 32\n",
        "shuffle_buffer_size = 1000"
      ],
      "execution_count": null,
      "outputs": []
    },
    {
      "cell_type": "code",
      "metadata": {
        "colab_type": "code",
        "id": "4sTTIOCbyShY",
        "colab": {}
      },
      "source": [
        "def windowed_dataset(series, window_size, batch_size, shuffle_buffer):\n",
        "  dataset = tf.data.Dataset.from_tensor_slices(series)\n",
        "  dataset = dataset.window(window_size + 1, shift=1, drop_remainder=True)\n",
        "  dataset = dataset.flat_map(lambda window: window.batch(window_size + 1))\n",
        "  dataset = dataset.shuffle(shuffle_buffer).map(lambda window: (window[:-1], window[-1]))\n",
        "  dataset = dataset.batch(batch_size).prefetch(1)\n",
        "  return dataset"
      ],
      "execution_count": null,
      "outputs": []
    },
    {
      "cell_type": "code",
      "metadata": {
        "colab_type": "code",
        "id": "A1Hl39rklkLm",
        "colab": {
          "base_uri": "https://localhost:8080/",
          "height": 1000
        },
        "outputId": "4afcbcda-d554-4a79-ac8e-d166509bd4e3"
      },
      "source": [
        "tf.keras.backend.clear_session()\n",
        "tf.random.set_seed(51)\n",
        "np.random.seed(51)\n",
        "\n",
        "tf.keras.backend.clear_session()\n",
        "dataset = windowed_dataset(x_train, window_size, batch_size, shuffle_buffer_size)\n",
        "\n",
        "model = tf.keras.models.Sequential([\n",
        "  tf.keras.layers.Lambda(lambda x: tf.expand_dims(x, axis=-1),\n",
        "                      input_shape=[None]),\n",
        "    tf.keras.layers.Bidirectional(tf.keras.layers.LSTM(32, return_sequences=True)),\n",
        "  tf.keras.layers.Bidirectional(tf.keras.layers.LSTM(32)),\n",
        "  tf.keras.layers.Dense(1),\n",
        "  tf.keras.layers.Lambda(lambda x: x * 100.0)\n",
        "])\n",
        "\n",
        "lr_schedule = tf.keras.callbacks.LearningRateScheduler(\n",
        "    lambda epoch: 1e-8 * 10**(epoch / 20))\n",
        "optimizer = tf.keras.optimizers.SGD(lr=1e-8, momentum=0.9)\n",
        "model.compile(loss=tf.keras.losses.Huber(),\n",
        "              optimizer=optimizer,\n",
        "              metrics=[\"mae\"])\n",
        "history = model.fit(dataset, epochs=100, callbacks=[lr_schedule])"
      ],
      "execution_count": null,
      "outputs": [
        {
          "output_type": "stream",
          "text": [
            "Epoch 1/100\n",
            "31/31 [==============================] - 7s 220ms/step - loss: 21.4949 - mae: 22.0115\n",
            "Epoch 2/100\n",
            "31/31 [==============================] - 1s 33ms/step - loss: 21.2168 - mae: 21.6440\n",
            "Epoch 3/100\n",
            "31/31 [==============================] - 1s 31ms/step - loss: 20.7111 - mae: 21.2278\n",
            "Epoch 4/100\n",
            "31/31 [==============================] - 1s 31ms/step - loss: 20.1562 - mae: 20.7739\n",
            "Epoch 5/100\n",
            "31/31 [==============================] - 1s 31ms/step - loss: 19.7903 - mae: 20.2843\n",
            "Epoch 6/100\n",
            "31/31 [==============================] - 1s 32ms/step - loss: 19.2615 - mae: 19.6776\n",
            "Epoch 7/100\n",
            "31/31 [==============================] - 1s 31ms/step - loss: 18.2681 - mae: 18.7308\n",
            "Epoch 8/100\n",
            "31/31 [==============================] - 1s 32ms/step - loss: 17.4057 - mae: 17.9757\n",
            "Epoch 9/100\n",
            "31/31 [==============================] - 1s 32ms/step - loss: 17.2263 - mae: 17.6581\n",
            "Epoch 10/100\n",
            "31/31 [==============================] - 1s 31ms/step - loss: 16.8978 - mae: 17.3457\n",
            "Epoch 11/100\n",
            "31/31 [==============================] - 1s 32ms/step - loss: 16.6165 - mae: 17.0459\n",
            "Epoch 12/100\n",
            "31/31 [==============================] - 1s 31ms/step - loss: 16.2132 - mae: 16.7529\n",
            "Epoch 13/100\n",
            "31/31 [==============================] - 1s 31ms/step - loss: 15.9664 - mae: 16.4573\n",
            "Epoch 14/100\n",
            "31/31 [==============================] - 1s 32ms/step - loss: 15.6962 - mae: 16.1587\n",
            "Epoch 15/100\n",
            "31/31 [==============================] - 1s 33ms/step - loss: 15.3739 - mae: 15.8571\n",
            "Epoch 16/100\n",
            "31/31 [==============================] - 1s 33ms/step - loss: 15.1133 - mae: 15.5765\n",
            "Epoch 17/100\n",
            "31/31 [==============================] - 1s 33ms/step - loss: 14.7837 - mae: 15.2950\n",
            "Epoch 18/100\n",
            "31/31 [==============================] - 1s 34ms/step - loss: 14.4760 - mae: 15.0164\n",
            "Epoch 19/100\n",
            "31/31 [==============================] - 1s 31ms/step - loss: 14.3366 - mae: 14.7612\n",
            "Epoch 20/100\n",
            "31/31 [==============================] - 1s 31ms/step - loss: 14.0852 - mae: 14.5354\n",
            "Epoch 21/100\n",
            "31/31 [==============================] - 1s 32ms/step - loss: 13.8134 - mae: 14.3081\n",
            "Epoch 22/100\n",
            "31/31 [==============================] - 1s 33ms/step - loss: 13.6393 - mae: 14.1062\n",
            "Epoch 23/100\n",
            "31/31 [==============================] - 1s 33ms/step - loss: 13.3826 - mae: 13.8858\n",
            "Epoch 24/100\n",
            "31/31 [==============================] - 1s 31ms/step - loss: 13.1954 - mae: 13.7037\n",
            "Epoch 25/100\n",
            "31/31 [==============================] - 1s 32ms/step - loss: 13.0163 - mae: 13.4526\n",
            "Epoch 26/100\n",
            "31/31 [==============================] - 1s 32ms/step - loss: 12.7585 - mae: 13.2327\n",
            "Epoch 27/100\n",
            "31/31 [==============================] - 1s 31ms/step - loss: 12.5284 - mae: 12.9716\n",
            "Epoch 28/100\n",
            "31/31 [==============================] - 1s 32ms/step - loss: 12.2087 - mae: 12.7095\n",
            "Epoch 29/100\n",
            "31/31 [==============================] - 1s 34ms/step - loss: 12.3941 - mae: 12.8460\n",
            "Epoch 30/100\n",
            "31/31 [==============================] - 1s 38ms/step - loss: 11.8443 - mae: 12.3121\n",
            "Epoch 31/100\n",
            "31/31 [==============================] - 1s 35ms/step - loss: 11.3303 - mae: 11.8148\n",
            "Epoch 32/100\n",
            "31/31 [==============================] - 1s 35ms/step - loss: 10.9481 - mae: 11.4830\n",
            "Epoch 33/100\n",
            "31/31 [==============================] - 1s 32ms/step - loss: 10.6266 - mae: 11.1361\n",
            "Epoch 34/100\n",
            "31/31 [==============================] - 1s 33ms/step - loss: 10.7815 - mae: 11.3007\n",
            "Epoch 35/100\n",
            "31/31 [==============================] - 1s 31ms/step - loss: 10.9719 - mae: 11.4606\n",
            "Epoch 36/100\n",
            "31/31 [==============================] - 1s 31ms/step - loss: 10.4490 - mae: 10.9636\n",
            "Epoch 37/100\n",
            "31/31 [==============================] - 1s 35ms/step - loss: 9.9899 - mae: 10.4892\n",
            "Epoch 38/100\n",
            "31/31 [==============================] - 1s 36ms/step - loss: 9.5782 - mae: 10.0283\n",
            "Epoch 39/100\n",
            "31/31 [==============================] - 1s 31ms/step - loss: 9.0664 - mae: 9.5461\n",
            "Epoch 40/100\n",
            "31/31 [==============================] - 1s 32ms/step - loss: 8.6547 - mae: 9.1358\n",
            "Epoch 41/100\n",
            "31/31 [==============================] - 1s 31ms/step - loss: 8.2887 - mae: 8.7356\n",
            "Epoch 42/100\n",
            "31/31 [==============================] - 1s 32ms/step - loss: 7.9123 - mae: 8.4081\n",
            "Epoch 43/100\n",
            "31/31 [==============================] - 1s 31ms/step - loss: 7.6793 - mae: 8.1137\n",
            "Epoch 44/100\n",
            "31/31 [==============================] - 1s 31ms/step - loss: 7.3547 - mae: 7.8033\n",
            "Epoch 45/100\n",
            "31/31 [==============================] - 1s 33ms/step - loss: 7.1047 - mae: 7.5770\n",
            "Epoch 46/100\n",
            "31/31 [==============================] - 1s 32ms/step - loss: 6.9459 - mae: 7.3933\n",
            "Epoch 47/100\n",
            "31/31 [==============================] - 1s 31ms/step - loss: 6.5524 - mae: 7.0771\n",
            "Epoch 48/100\n",
            "31/31 [==============================] - 1s 33ms/step - loss: 6.4136 - mae: 6.9074\n",
            "Epoch 49/100\n",
            "31/31 [==============================] - 1s 34ms/step - loss: 6.3931 - mae: 6.8757\n",
            "Epoch 50/100\n",
            "31/31 [==============================] - 1s 32ms/step - loss: 6.0520 - mae: 6.5164\n",
            "Epoch 51/100\n",
            "31/31 [==============================] - 1s 31ms/step - loss: 5.8715 - mae: 6.3634\n",
            "Epoch 52/100\n",
            "31/31 [==============================] - 1s 32ms/step - loss: 5.7791 - mae: 6.2421\n",
            "Epoch 53/100\n",
            "31/31 [==============================] - 1s 31ms/step - loss: 5.6699 - mae: 6.1419\n",
            "Epoch 54/100\n",
            "31/31 [==============================] - 1s 31ms/step - loss: 5.5072 - mae: 5.9468\n",
            "Epoch 55/100\n",
            "31/31 [==============================] - 1s 31ms/step - loss: 5.4385 - mae: 5.9006\n",
            "Epoch 56/100\n",
            "31/31 [==============================] - 1s 34ms/step - loss: 5.2939 - mae: 5.7471\n",
            "Epoch 57/100\n",
            "31/31 [==============================] - 1s 32ms/step - loss: 5.3199 - mae: 5.7881\n",
            "Epoch 58/100\n",
            "31/31 [==============================] - 1s 31ms/step - loss: 5.1544 - mae: 5.6591\n",
            "Epoch 59/100\n",
            "31/31 [==============================] - 1s 35ms/step - loss: 5.3091 - mae: 5.7545\n",
            "Epoch 60/100\n",
            "31/31 [==============================] - 1s 32ms/step - loss: 5.0288 - mae: 5.5567\n",
            "Epoch 61/100\n",
            "31/31 [==============================] - 1s 31ms/step - loss: 4.9551 - mae: 5.4250\n",
            "Epoch 62/100\n",
            "31/31 [==============================] - 1s 35ms/step - loss: 5.1300 - mae: 5.5808\n",
            "Epoch 63/100\n",
            "31/31 [==============================] - 1s 31ms/step - loss: 5.2117 - mae: 5.6630\n",
            "Epoch 64/100\n",
            "31/31 [==============================] - 1s 32ms/step - loss: 5.0575 - mae: 5.5312\n",
            "Epoch 65/100\n",
            "31/31 [==============================] - 1s 35ms/step - loss: 4.9261 - mae: 5.3900\n",
            "Epoch 66/100\n",
            "31/31 [==============================] - 1s 31ms/step - loss: 5.3047 - mae: 5.7637\n",
            "Epoch 67/100\n",
            "31/31 [==============================] - 1s 31ms/step - loss: 5.2755 - mae: 5.7446\n",
            "Epoch 68/100\n",
            "31/31 [==============================] - 1s 31ms/step - loss: 5.3003 - mae: 5.7234\n",
            "Epoch 69/100\n",
            "31/31 [==============================] - 1s 36ms/step - loss: 5.3746 - mae: 5.8346\n",
            "Epoch 70/100\n",
            "31/31 [==============================] - 1s 31ms/step - loss: 6.1354 - mae: 6.6386\n",
            "Epoch 71/100\n",
            "31/31 [==============================] - 1s 31ms/step - loss: 4.9121 - mae: 5.4135\n",
            "Epoch 72/100\n",
            "31/31 [==============================] - 1s 31ms/step - loss: 5.6100 - mae: 6.0636\n",
            "Epoch 73/100\n",
            "31/31 [==============================] - 1s 31ms/step - loss: 5.3411 - mae: 5.8208\n",
            "Epoch 74/100\n",
            "31/31 [==============================] - 1s 35ms/step - loss: 6.6828 - mae: 7.1966\n",
            "Epoch 75/100\n",
            "31/31 [==============================] - 1s 32ms/step - loss: 5.7112 - mae: 6.1957\n",
            "Epoch 76/100\n",
            "31/31 [==============================] - 1s 32ms/step - loss: 5.1434 - mae: 5.6158\n",
            "Epoch 77/100\n",
            "31/31 [==============================] - 1s 36ms/step - loss: 5.7378 - mae: 6.2385\n",
            "Epoch 78/100\n",
            "31/31 [==============================] - 1s 32ms/step - loss: 7.2295 - mae: 7.6426\n",
            "Epoch 79/100\n",
            "31/31 [==============================] - 1s 35ms/step - loss: 5.0654 - mae: 5.5955\n",
            "Epoch 80/100\n",
            "31/31 [==============================] - 1s 32ms/step - loss: 6.4766 - mae: 7.0136\n",
            "Epoch 81/100\n",
            "31/31 [==============================] - 1s 31ms/step - loss: 6.6777 - mae: 7.1079\n",
            "Epoch 82/100\n",
            "31/31 [==============================] - 1s 34ms/step - loss: 6.6996 - mae: 7.2374\n",
            "Epoch 83/100\n",
            "31/31 [==============================] - 1s 31ms/step - loss: 6.3449 - mae: 6.8347\n",
            "Epoch 84/100\n",
            "31/31 [==============================] - 1s 32ms/step - loss: 5.8157 - mae: 6.3277\n",
            "Epoch 85/100\n",
            "31/31 [==============================] - 1s 31ms/step - loss: 7.0067 - mae: 7.6007\n",
            "Epoch 86/100\n",
            "31/31 [==============================] - 1s 32ms/step - loss: 7.4649 - mae: 7.9559\n",
            "Epoch 87/100\n",
            "31/31 [==============================] - 1s 34ms/step - loss: 8.0525 - mae: 8.5456\n",
            "Epoch 88/100\n",
            "31/31 [==============================] - 1s 32ms/step - loss: 7.0581 - mae: 7.4773\n",
            "Epoch 89/100\n",
            "31/31 [==============================] - 1s 34ms/step - loss: 6.4190 - mae: 6.9714\n",
            "Epoch 90/100\n",
            "31/31 [==============================] - 1s 31ms/step - loss: 7.9179 - mae: 8.3901\n",
            "Epoch 91/100\n",
            "31/31 [==============================] - 1s 31ms/step - loss: 5.9651 - mae: 6.4224\n",
            "Epoch 92/100\n",
            "31/31 [==============================] - 1s 32ms/step - loss: 7.6870 - mae: 8.2557\n",
            "Epoch 93/100\n",
            "31/31 [==============================] - 1s 31ms/step - loss: 10.2010 - mae: 10.6407\n",
            "Epoch 94/100\n",
            "31/31 [==============================] - 1s 31ms/step - loss: 9.8401 - mae: 10.2520\n",
            "Epoch 95/100\n",
            "31/31 [==============================] - 1s 31ms/step - loss: 8.0061 - mae: 8.6051\n",
            "Epoch 96/100\n",
            "31/31 [==============================] - 1s 31ms/step - loss: 10.0772 - mae: 10.7728\n",
            "Epoch 97/100\n",
            "31/31 [==============================] - 1s 31ms/step - loss: 12.3809 - mae: 12.8968\n",
            "Epoch 98/100\n",
            "31/31 [==============================] - 1s 31ms/step - loss: 11.2224 - mae: 11.6217\n",
            "Epoch 99/100\n",
            "31/31 [==============================] - 1s 31ms/step - loss: 14.2771 - mae: 14.6141\n",
            "Epoch 100/100\n",
            "31/31 [==============================] - 1s 32ms/step - loss: 10.7625 - mae: 11.1881\n"
          ],
          "name": "stdout"
        }
      ]
    },
    {
      "cell_type": "code",
      "metadata": {
        "colab_type": "code",
        "id": "AkBsrsXMzoWR",
        "colab": {
          "base_uri": "https://localhost:8080/",
          "height": 290
        },
        "outputId": "05245fbf-d898-40d1-ee5c-9c99f67e90cb"
      },
      "source": [
        "plt.semilogx(history.history[\"lr\"], history.history[\"loss\"])\n",
        "plt.axis([1e-8, 1e-4, 0, 30])"
      ],
      "execution_count": null,
      "outputs": [
        {
          "output_type": "execute_result",
          "data": {
            "text/plain": [
              "(1e-08, 0.0001, 0.0, 30.0)"
            ]
          },
          "metadata": {
            "tags": []
          },
          "execution_count": 8
        },
        {
          "output_type": "display_data",
          "data": {
            "image/png": "[encoded data removed]",
            "text/plain": [
              "<Figure size 432x288 with 1 Axes>"
            ]
          },
          "metadata": {
            "tags": [],
            "needs_background": "light"
          }
        }
      ]
    },
    {
      "cell_type": "code",
      "metadata": {
        "colab_type": "code",
        "id": "4uh-97bpLZCA",
        "colab": {}
      },
      "source": [
        "tf.keras.backend.clear_session()\n",
        "tf.random.set_seed(51)\n",
        "np.random.seed(51)\n",
        "\n",
        "tf.keras.backend.clear_session()\n",
        "dataset = windowed_dataset(x_train, window_size, batch_size, shuffle_buffer_size)\n",
        "\n",
        "model = tf.keras.models.Sequential([\n",
        "  tf.keras.layers.Lambda(lambda x: tf.expand_dims(x, axis=-1),\n",
        "                      input_shape=[None]),\n",
        "   tf.keras.layers.Bidirectional(tf.keras.layers.LSTM(32, return_sequences=True)),\n",
        "  tf.keras.layers.Bidirectional(tf.keras.layers.LSTM(32)),\n",
        "  tf.keras.layers.Dense(1),\n",
        "  tf.keras.layers.Lambda(lambda x: x * 100.0)\n",
        "])\n",
        "\n",
        "\n",
        "model.compile(loss=\"mse\", optimizer=tf.keras.optimizers.SGD(lr=1e-5, momentum=0.9),metrics=[\"mae\"])\n",
        "history = model.fit(dataset,epochs=500,verbose=0)"
      ],
      "execution_count": null,
      "outputs": []
    },
    {
      "cell_type": "code",
      "metadata": {
        "colab_type": "code",
        "id": "icGDaND7z0ne",
        "colab": {
          "base_uri": "https://localhost:8080/",
          "height": 388
        },
        "outputId": "961de5c4-890d-4a79-d37f-9061287d5742"
      },
      "source": [
        "forecast = []\n",
        "results = []\n",
        "for time in range(len(series) - window_size):\n",
        "  forecast.append(model.predict(series[time:time + window_size][np.newaxis]))\n",
        "\n",
        "forecast = forecast[split_time-window_size:]\n",
        "results = np.array(forecast)[:, 0, 0]\n",
        "\n",
        "\n",
        "plt.figure(figsize=(10, 6))\n",
        "\n",
        "plot_series(time_valid, x_valid)\n",
        "plot_series(time_valid, results)"
      ],
      "execution_count": null,
      "outputs": [
        {
          "output_type": "display_data",
          "data": {
            "image/png": "[encoded data removed]",
            "text/plain": [
              "<Figure size 720x432 with 1 Axes>"
            ]
          },
          "metadata": {
            "tags": [],
            "needs_background": "light"
          }
        }
      ]
    },
    {
      "cell_type": "code",
      "metadata": {
        "colab_type": "code",
        "id": "KfPeqI7rz4LD",
        "colab": {
          "base_uri": "https://localhost:8080/",
          "height": 34
        },
        "outputId": "b20c71f3-f5a9-4be6-a7af-a5c062cf0477"
      },
      "source": [
        "tf.keras.metrics.mean_absolute_error(x_valid, results).numpy()"
      ],
      "execution_count": null,
      "outputs": [
        {
          "output_type": "execute_result",
          "data": {
            "text/plain": [
              "6.6017175"
            ]
          },
          "metadata": {
            "tags": []
          },
          "execution_count": 20
        }
      ]
    },
    {
      "cell_type": "code",
      "metadata": {
        "colab_type": "code",
        "id": "JUsdZB_tzDLe",
        "colab": {
          "base_uri": "https://localhost:8080/",
          "height": 607
        },
        "outputId": "d4bd0d04-1833-4933-d1d4-2f3e9aa8281f"
      },
      "source": [
        "import matplotlib.image  as mpimg\n",
        "import matplotlib.pyplot as plt\n",
        "\n",
        "#-----------------------------------------------------------\n",
        "# Retrieve a list of list results on training and test data\n",
        "# sets for each training epoch\n",
        "#-----------------------------------------------------------\n",
        "mae=history.history['mae']\n",
        "loss=history.history['loss']\n",
        "\n",
        "epochs=range(len(loss)) # Get number of epochs\n",
        "\n",
        "#------------------------------------------------\n",
        "# Plot MAE and Loss\n",
        "#------------------------------------------------\n",
        "plt.plot(epochs, mae, 'r')\n",
        "plt.plot(epochs, loss, 'b')\n",
        "plt.title('MAE and Loss')\n",
        "plt.xlabel(\"Epochs\")\n",
        "plt.ylabel(\"Accuracy\")\n",
        "plt.legend([\"MAE\", \"Loss\"])\n",
        "\n",
        "plt.figure()\n",
        "\n",
        "epochs_zoom = epochs[200:]\n",
        "mae_zoom = mae[200:]\n",
        "loss_zoom = loss[200:]\n",
        "\n",
        "#------------------------------------------------\n",
        "# Plot Zoomed MAE and Loss\n",
        "#------------------------------------------------\n",
        "plt.plot(epochs_zoom, mae_zoom, 'r')\n",
        "plt.plot(epochs_zoom, loss_zoom, 'b')\n",
        "plt.title('MAE and Loss')\n",
        "plt.xlabel(\"Epochs\")\n",
        "plt.ylabel(\"Accuracy\")\n",
        "plt.legend([\"MAE\", \"Loss\"])\n",
        "\n",
        "plt.figure()"
      ],
      "execution_count": null,
      "outputs": [
        {
          "output_type": "execute_result",
          "data": {
            "text/plain": [
              "<Figure size 432x288 with 0 Axes>"
            ]
          },
          "metadata": {
            "tags": []
          },
          "execution_count": 21
        },
        {
          "output_type": "display_data",
          "data": {
            "image/png": "[encoded data removed]",
            "text/plain": [
              "<Figure size 432x288 with 1 Axes>"
            ]
          },
          "metadata": {
            "tags": [],
            "needs_background": "light"
          }
        },
        {
          "output_type": "display_data",
          "data": {
            "image/png": "[encoded data removed]",
            "text/plain": [
              "<Figure size 432x288 with 1 Axes>"
            ]
          },
          "metadata": {
            "tags": [],
            "needs_background": "light"
          }
        },
        {
          "output_type": "display_data",
          "data": {
            "text/plain": [
              "<Figure size 432x288 with 0 Axes>"
            ]
          },
          "metadata": {
            "tags": []
          }
        }
      ]
    },
    {
      "cell_type": "code",
      "metadata": {
        "colab_type": "code",
        "id": "3CGaYFxXNEAK",
        "colab": {
          "base_uri": "https://localhost:8080/",
          "height": 34
        },
        "outputId": "bc4a511a-8909-41cd-e3e0-1b486b728279"
      },
      "source": [
        "tf.keras.backend.clear_session()\n",
        "dataset = windowed_dataset(x_train, window_size, batch_size, shuffle_buffer_size)\n",
        "\n",
        "model = tf.keras.models.Sequential([\n",
        "  tf.keras.layers.Lambda(lambda x: tf.expand_dims(x, axis=-1),\n",
        "                      input_shape=[None]),\n",
        "  tf.keras.layers.Bidirectional(tf.keras.layers.LSTM(32, return_sequences=True)),\n",
        "  tf.keras.layers.Bidirectional(tf.keras.layers.LSTM(32)),\n",
        "  tf.keras.layers.Dense(1),\n",
        "  tf.keras.layers.Lambda(lambda x: x * 100.0)\n",
        "])\n",
        "\n",
        "\n",
        "model.compile(loss=\"mse\", optimizer=tf.keras.optimizers.SGD(lr=1e-6, momentum=0.9))\n",
        "model.fit(dataset,epochs=100, verbose=0)"
      ],
      "execution_count": null,
      "outputs": [
        {
          "output_type": "execute_result",
          "data": {
            "text/plain": [
              "<tensorflow.python.keras.callbacks.History at 0x7fdbc0942470>"
            ]
          },
          "metadata": {
            "tags": []
          },
          "execution_count": 22
        }
      ]
    },
    {
      "cell_type": "code",
      "metadata": {
        "colab_type": "code",
        "id": "FJ3R8ysauz9e",
        "colab": {
          "base_uri": "https://localhost:8080/",
          "height": 1000
        },
        "outputId": "0bfcbe6f-580c-4bc9-a599-d17d78ecf766"
      },
      "source": [
        "tf.keras.backend.clear_session()\n",
        "dataset = windowed_dataset(x_train, window_size, batch_size, shuffle_buffer_size)\n",
        "\n",
        "model = tf.keras.models.Sequential([\n",
        "  tf.keras.layers.Lambda(lambda x: tf.expand_dims(x, axis=-1),\n",
        "                      input_shape=[None]),\n",
        "  tf.keras.layers.Bidirectional(tf.keras.layers.LSTM(32, return_sequences=True)),\n",
        "  tf.keras.layers.Bidirectional(tf.keras.layers.LSTM(32, return_sequences=True)),\n",
        "  tf.keras.layers.Bidirectional(tf.keras.layers.LSTM(32)),\n",
        "  tf.keras.layers.Dense(1),\n",
        "  tf.keras.layers.Lambda(lambda x: x * 100.0)\n",
        "])\n",
        "\n",
        "\n",
        "model.compile(loss=\"mse\", optimizer=tf.keras.optimizers.SGD(lr=1e-6, momentum=0.9))\n",
        "model.fit(dataset,epochs=100)"
      ],
      "execution_count": null,
      "outputs": [
        {
          "output_type": "stream",
          "text": [
            "Epoch 1/100\n",
            "31/31 [==============================] - 9s 294ms/step - loss: 637.0232\n",
            "Epoch 2/100\n",
            "31/31 [==============================] - 1s 46ms/step - loss: 122.3824\n",
            "Epoch 3/100\n",
            "31/31 [==============================] - 1s 45ms/step - loss: 93.5221\n",
            "Epoch 4/100\n",
            "31/31 [==============================] - 1s 48ms/step - loss: 89.9539\n",
            "Epoch 5/100\n",
            "31/31 [==============================] - 1s 45ms/step - loss: 83.9737\n",
            "Epoch 6/100\n",
            "31/31 [==============================] - 1s 45ms/step - loss: 75.3470\n",
            "Epoch 7/100\n",
            "31/31 [==============================] - 1s 46ms/step - loss: 68.6464\n",
            "Epoch 8/100\n",
            "31/31 [==============================] - 1s 45ms/step - loss: 64.6512\n",
            "Epoch 9/100\n",
            "31/31 [==============================] - 2s 50ms/step - loss: 66.7151\n",
            "Epoch 10/100\n",
            "31/31 [==============================] - 1s 45ms/step - loss: 65.4137\n",
            "Epoch 11/100\n",
            "31/31 [==============================] - 1s 46ms/step - loss: 63.6606\n",
            "Epoch 12/100\n",
            "31/31 [==============================] - 2s 49ms/step - loss: 58.3602\n",
            "Epoch 13/100\n",
            "31/31 [==============================] - 1s 46ms/step - loss: 56.1278\n",
            "Epoch 14/100\n",
            "31/31 [==============================] - 1s 46ms/step - loss: 63.2087\n",
            "Epoch 15/100\n",
            "31/31 [==============================] - 1s 45ms/step - loss: 55.1125\n",
            "Epoch 16/100\n",
            "31/31 [==============================] - 2s 49ms/step - loss: 52.6656\n",
            "Epoch 17/100\n",
            "31/31 [==============================] - 1s 46ms/step - loss: 62.0862\n",
            "Epoch 18/100\n",
            "31/31 [==============================] - 1s 46ms/step - loss: 59.2665\n",
            "Epoch 19/100\n",
            "31/31 [==============================] - 1s 46ms/step - loss: 57.2411\n",
            "Epoch 20/100\n",
            "31/31 [==============================] - 1s 45ms/step - loss: 58.1591\n",
            "Epoch 21/100\n",
            "31/31 [==============================] - 1s 45ms/step - loss: 52.9893\n",
            "Epoch 22/100\n",
            "31/31 [==============================] - 1s 45ms/step - loss: 48.8518\n",
            "Epoch 23/100\n",
            "31/31 [==============================] - 1s 48ms/step - loss: 55.9564\n",
            "Epoch 24/100\n",
            "31/31 [==============================] - 1s 45ms/step - loss: 49.5692\n",
            "Epoch 25/100\n",
            "31/31 [==============================] - 1s 47ms/step - loss: 58.1519\n",
            "Epoch 26/100\n",
            "31/31 [==============================] - 2s 50ms/step - loss: 49.3786\n",
            "Epoch 27/100\n",
            "31/31 [==============================] - 2s 51ms/step - loss: 54.8172\n",
            "Epoch 28/100\n",
            "31/31 [==============================] - 1s 45ms/step - loss: 53.7926\n",
            "Epoch 29/100\n",
            "31/31 [==============================] - 1s 45ms/step - loss: 54.7583\n",
            "Epoch 30/100\n",
            "31/31 [==============================] - 1s 48ms/step - loss: 48.5039\n",
            "Epoch 31/100\n",
            "31/31 [==============================] - 1s 46ms/step - loss: 49.9654\n",
            "Epoch 32/100\n",
            "31/31 [==============================] - 1s 45ms/step - loss: 52.8549\n",
            "Epoch 33/100\n",
            "31/31 [==============================] - 1s 45ms/step - loss: 57.4627\n",
            "Epoch 34/100\n",
            "31/31 [==============================] - 1s 46ms/step - loss: 48.4985\n",
            "Epoch 35/100\n",
            "31/31 [==============================] - 1s 45ms/step - loss: 49.9536\n",
            "Epoch 36/100\n",
            "31/31 [==============================] - 1s 45ms/step - loss: 48.0678\n",
            "Epoch 37/100\n",
            "31/31 [==============================] - 1s 46ms/step - loss: 47.0031\n",
            "Epoch 38/100\n",
            "31/31 [==============================] - 1s 46ms/step - loss: 51.8044\n",
            "Epoch 39/100\n",
            "31/31 [==============================] - 1s 46ms/step - loss: 47.8401\n",
            "Epoch 40/100\n",
            "31/31 [==============================] - 1s 47ms/step - loss: 47.0739\n",
            "Epoch 41/100\n",
            "31/31 [==============================] - 1s 46ms/step - loss: 49.3223\n",
            "Epoch 42/100\n",
            "31/31 [==============================] - 1s 46ms/step - loss: 46.2311\n",
            "Epoch 43/100\n",
            "31/31 [==============================] - 1s 46ms/step - loss: 50.1677\n",
            "Epoch 44/100\n",
            "31/31 [==============================] - 1s 45ms/step - loss: 49.0299\n",
            "Epoch 45/100\n",
            "31/31 [==============================] - 1s 44ms/step - loss: 51.4375\n",
            "Epoch 46/100\n",
            "31/31 [==============================] - 2s 50ms/step - loss: 48.7903\n",
            "Epoch 47/100\n",
            "31/31 [==============================] - 1s 45ms/step - loss: 51.9893\n",
            "Epoch 48/100\n",
            "31/31 [==============================] - 1s 46ms/step - loss: 50.1349\n",
            "Epoch 49/100\n",
            "31/31 [==============================] - 1s 48ms/step - loss: 45.4002\n",
            "Epoch 50/100\n",
            "31/31 [==============================] - 1s 48ms/step - loss: 45.3459\n",
            "Epoch 51/100\n",
            "31/31 [==============================] - 1s 45ms/step - loss: 45.9184\n",
            "Epoch 52/100\n",
            "31/31 [==============================] - 1s 46ms/step - loss: 48.6871\n",
            "Epoch 53/100\n",
            "31/31 [==============================] - 1s 45ms/step - loss: 50.2157\n",
            "Epoch 54/100\n",
            "31/31 [==============================] - 1s 45ms/step - loss: 50.3792\n",
            "Epoch 55/100\n",
            "31/31 [==============================] - 1s 45ms/step - loss: 44.5867\n",
            "Epoch 56/100\n",
            "31/31 [==============================] - 1s 46ms/step - loss: 46.2903\n",
            "Epoch 57/100\n",
            "31/31 [==============================] - 1s 46ms/step - loss: 46.9808\n",
            "Epoch 58/100\n",
            "31/31 [==============================] - 1s 45ms/step - loss: 46.0497\n",
            "Epoch 59/100\n",
            "31/31 [==============================] - 2s 49ms/step - loss: 45.0362\n",
            "Epoch 60/100\n",
            "31/31 [==============================] - 1s 45ms/step - loss: 45.3160\n",
            "Epoch 61/100\n",
            "31/31 [==============================] - 1s 46ms/step - loss: 46.7116\n",
            "Epoch 62/100\n",
            "31/31 [==============================] - 1s 46ms/step - loss: 46.7306\n",
            "Epoch 63/100\n",
            "31/31 [==============================] - 1s 47ms/step - loss: 47.1439\n",
            "Epoch 64/100\n",
            "31/31 [==============================] - 1s 44ms/step - loss: 45.2324\n",
            "Epoch 65/100\n",
            "31/31 [==============================] - 1s 47ms/step - loss: 45.5615\n",
            "Epoch 66/100\n",
            "31/31 [==============================] - 2s 49ms/step - loss: 44.5538\n",
            "Epoch 67/100\n",
            "31/31 [==============================] - 1s 45ms/step - loss: 43.8195\n",
            "Epoch 68/100\n",
            "31/31 [==============================] - 1s 48ms/step - loss: 44.7913\n",
            "Epoch 69/100\n",
            "31/31 [==============================] - 1s 45ms/step - loss: 49.0834\n",
            "Epoch 70/100\n",
            "31/31 [==============================] - 1s 47ms/step - loss: 49.2482\n",
            "Epoch 71/100\n",
            "31/31 [==============================] - 1s 44ms/step - loss: 48.2154\n",
            "Epoch 72/100\n",
            "31/31 [==============================] - 1s 45ms/step - loss: 43.9151\n",
            "Epoch 73/100\n",
            "31/31 [==============================] - 1s 46ms/step - loss: 44.9549\n",
            "Epoch 74/100\n",
            "31/31 [==============================] - 1s 45ms/step - loss: 44.6029\n",
            "Epoch 75/100\n",
            "31/31 [==============================] - 1s 45ms/step - loss: 44.2298\n",
            "Epoch 76/100\n",
            "31/31 [==============================] - 1s 46ms/step - loss: 43.6080\n",
            "Epoch 77/100\n",
            "31/31 [==============================] - 1s 44ms/step - loss: 45.3792\n",
            "Epoch 78/100\n",
            "31/31 [==============================] - 1s 46ms/step - loss: 45.6226\n",
            "Epoch 79/100\n",
            "31/31 [==============================] - 1s 46ms/step - loss: 44.8075\n",
            "Epoch 80/100\n",
            "31/31 [==============================] - 1s 44ms/step - loss: 44.7194\n",
            "Epoch 81/100\n",
            "31/31 [==============================] - 1s 46ms/step - loss: 51.3381\n",
            "Epoch 82/100\n",
            "31/31 [==============================] - 1s 48ms/step - loss: 52.6025\n",
            "Epoch 83/100\n",
            "31/31 [==============================] - 1s 47ms/step - loss: 45.2575\n",
            "Epoch 84/100\n",
            "31/31 [==============================] - 1s 48ms/step - loss: 45.2554\n",
            "Epoch 85/100\n",
            "31/31 [==============================] - 1s 46ms/step - loss: 46.0116\n",
            "Epoch 86/100\n",
            "31/31 [==============================] - 2s 51ms/step - loss: 45.1577\n",
            "Epoch 87/100\n",
            "31/31 [==============================] - 1s 46ms/step - loss: 43.5127\n",
            "Epoch 88/100\n",
            "31/31 [==============================] - 1s 45ms/step - loss: 51.4440\n",
            "Epoch 89/100\n",
            "31/31 [==============================] - 2s 52ms/step - loss: 46.2988\n",
            "Epoch 90/100\n",
            "31/31 [==============================] - 1s 46ms/step - loss: 49.2589\n",
            "Epoch 91/100\n",
            "31/31 [==============================] - 1s 45ms/step - loss: 45.1823\n",
            "Epoch 92/100\n",
            "31/31 [==============================] - 2s 51ms/step - loss: 52.0298\n",
            "Epoch 93/100\n",
            "31/31 [==============================] - 2s 49ms/step - loss: 44.1537\n",
            "Epoch 94/100\n",
            "31/31 [==============================] - 1s 47ms/step - loss: 41.8719\n",
            "Epoch 95/100\n",
            "31/31 [==============================] - 1s 47ms/step - loss: 46.0074\n",
            "Epoch 96/100\n",
            "31/31 [==============================] - 1s 47ms/step - loss: 44.7369\n",
            "Epoch 97/100\n",
            "31/31 [==============================] - 2s 49ms/step - loss: 44.7657\n",
            "Epoch 98/100\n",
            "31/31 [==============================] - 1s 45ms/step - loss: 44.1665\n",
            "Epoch 99/100\n",
            "31/31 [==============================] - 1s 45ms/step - loss: 44.7782\n",
            "Epoch 100/100\n",
            "31/31 [==============================] - 1s 45ms/step - loss: 45.3298\n"
          ],
          "name": "stdout"
        },
        {
          "output_type": "execute_result",
          "data": {
            "text/plain": [
              "<tensorflow.python.keras.callbacks.History at 0x7fdbba30fef0>"
            ]
          },
          "metadata": {
            "tags": []
          },
          "execution_count": 23
        }
      ]
    },
    {
      "cell_type": "code",
      "metadata": {
        "id": "41D2bL9gsPbI",
        "colab_type": "code",
        "colab": {}
      },
      "source": [
        ""
      ],
      "execution_count": null,
      "outputs": []
    }
  ]
}