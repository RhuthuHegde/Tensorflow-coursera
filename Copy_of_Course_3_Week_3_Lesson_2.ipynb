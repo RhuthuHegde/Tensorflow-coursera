{
  "nbformat": 4,
  "nbformat_minor": 0,
  "metadata": {
    "accelerator": "GPU",
    "colab": {
      "name": "Copy of Course 3 - Week 3 - Lesson 2.ipynb",
      "provenance": [],
      "collapsed_sections": [],
      "toc_visible": true,
      "include_colab_link": true
    },
    "kernelspec": {
      "display_name": "Python 3",
      "language": "python",
      "name": "python3"
    },
    "language_info": {
      "codemirror_mode": {
        "name": "ipython",
        "version": 3
      },
      "file_extension": ".py",
      "mimetype": "text/x-python",
      "name": "python",
      "nbconvert_exporter": "python",
      "pygments_lexer": "ipython3",
      "version": "3.7.6"
    }
  },
  "cells": [
    {
      "cell_type": "markdown",
      "metadata": {
        "id": "view-in-github",
        "colab_type": "text"
      },
      "source": [
        "<a href=\"https://colab.research.google.com/github/RhuthuHegde/Tensorflow-coursera/blob/master/Copy_of_Course_3_Week_3_Lesson_2.ipynb\" target=\"_parent\"><img src=\"https://colab.research.google.com/assets/colab-badge.svg\" alt=\"Open In Colab\"/></a>"
      ]
    },
    {
      "cell_type": "code",
      "metadata": {
        "colab_type": "code",
        "id": "zX4Kg8DUTKWO",
        "colab": {}
      },
      "source": [
        "#@title Licensed under the Apache License, Version 2.0 (the \"License\");\n",
        "# you may not use this file except in compliance with the License.\n",
        "# You may obtain a copy of the License at\n",
        "#\n",
        "# https://www.apache.org/licenses/LICENSE-2.0\n",
        "#\n",
        "# Unless required by applicable law or agreed to in writing, software\n",
        "# distributed under the License is distributed on an \"AS IS\" BASIS,\n",
        "# WITHOUT WARRANTIES OR CONDITIONS OF ANY KIND, either express or implied.\n",
        "# See the License for the specific language governing permissions and\n",
        "# limitations under the License."
      ],
      "execution_count": null,
      "outputs": []
    },
    {
      "cell_type": "markdown",
      "metadata": {
        "id": "zIjKmk036tPP",
        "colab_type": "text"
      },
      "source": [
        "<a href=\"https://colab.research.google.com/github/lmoroney/dlaicourse/blob/master/TensorFlow%20In%20Practice/Course%203%20-%20NLP/Course%203%20-%20Week%203%20-%20Lesson%202.ipynb\" target=\"_parent\"><img src=\"https://colab.research.google.com/assets/colab-badge.svg\" alt=\"Open In Colab\"/></a>"
      ]
    },
    {
      "cell_type": "code",
      "metadata": {
        "colab_type": "code",
        "id": "jGwXGIXvFhXW",
        "colab": {
          "base_uri": "https://localhost:8080/",
          "height": 1000
        },
        "outputId": "80171a20-3746-451a-a756-81054fefa9ad"
      },
      "source": [
        "import numpy as np\n",
        "\n",
        "import json\n",
        "import tensorflow as tf\n",
        "\n",
        "from tensorflow.keras.preprocessing.text import Tokenizer\n",
        "from tensorflow.keras.preprocessing.sequence import pad_sequences\n",
        "\n",
        "!wget --no-check-certificate \\\n",
        "    https://storage.googleapis.com/laurencemoroney-blog.appspot.com/sarcasm.json \\\n",
        "    -O /tmp/sarcasm.json\n",
        "\n",
        "vocab_size = 1000\n",
        "embedding_dim = 16\n",
        "max_length = 120\n",
        "trunc_type='post'\n",
        "padding_type='post'\n",
        "oov_tok = \"<OOV>\"\n",
        "training_size = 20000\n",
        "\n",
        "\n",
        "with open(\"/tmp/sarcasm.json\", 'r') as f:\n",
        "    datastore = json.load(f)\n",
        "\n",
        "\n",
        "sentences = []\n",
        "labels = []\n",
        "urls = []\n",
        "for item in datastore:\n",
        "    sentences.append(item['headline'])\n",
        "    labels.append(item['is_sarcastic'])\n",
        "\n",
        "training_sentences = sentences[0:training_size]\n",
        "testing_sentences = sentences[training_size:]\n",
        "training_labels = labels[0:training_size]\n",
        "testing_labels = labels[training_size:]\n",
        "\n",
        "tokenizer = Tokenizer(num_words=vocab_size, oov_token=oov_tok)\n",
        "tokenizer.fit_on_texts(training_sentences)\n",
        "\n",
        "word_index = tokenizer.word_index\n",
        "\n",
        "training_sequences = tokenizer.texts_to_sequences(training_sentences)\n",
        "training_padded = pad_sequences(training_sequences, maxlen=max_length, padding=padding_type, truncating=trunc_type)\n",
        "\n",
        "testing_sequences = tokenizer.texts_to_sequences(testing_sentences)\n",
        "testing_padded = pad_sequences(testing_sequences, maxlen=max_length, padding=padding_type, truncating=trunc_type)\n",
        "\n",
        "model = tf.keras.Sequential([\n",
        "    tf.keras.layers.Embedding(vocab_size, embedding_dim, input_length=max_length),\n",
        "    tf.keras.layers.Bidirectional(tf.keras.layers.LSTM(32)),\n",
        "    tf.keras.layers.Dense(24, activation='relu'),\n",
        "    tf.keras.layers.Dense(1, activation='sigmoid')\n",
        "])\n",
        "model.compile(loss='binary_crossentropy',optimizer='adam',metrics=['accuracy'])\n",
        "model.summary()\n",
        "\n",
        "num_epochs = 50\n",
        "training_padded = np.array(training_padded)\n",
        "training_labels = np.array(training_labels)\n",
        "testing_padded = np.array(testing_padded)\n",
        "testing_labels = np.array(testing_labels)\n",
        "history = model.fit(training_padded, training_labels, epochs=num_epochs, validation_data=(testing_padded, testing_labels), verbose=1)\n"
      ],
      "execution_count": null,
      "outputs": [
        {
          "output_type": "stream",
          "text": [
            "--2020-08-02 06:50:27--  https://storage.googleapis.com/laurencemoroney-blog.appspot.com/sarcasm.json\n",
            "Resolving storage.googleapis.com (storage.googleapis.com)... 74.125.206.128, 64.233.167.128, 74.125.133.128, ...\n",
            "Connecting to storage.googleapis.com (storage.googleapis.com)|74.125.206.128|:443... connected.\n",
            "HTTP request sent, awaiting response... 200 OK\n",
            "Length: 5643545 (5.4M) [application/json]\n",
            "Saving to: ‘/tmp/sarcasm.json’\n",
            "\n",
            "\r/tmp/sarcasm.json     0%[                    ]       0  --.-KB/s               \r/tmp/sarcasm.json    37%[======>             ]   2.01M  4.95MB/s               \r/tmp/sarcasm.json   100%[===================>]   5.38M  12.3MB/s    in 0.4s    \n",
            "\n",
            "2020-08-02 06:50:28 (12.3 MB/s) - ‘/tmp/sarcasm.json’ saved [5643545/5643545]\n",
            "\n",
            "Model: \"sequential\"\n",
            "_________________________________________________________________\n",
            "Layer (type)                 Output Shape              Param #   \n",
            "=================================================================\n",
            "embedding (Embedding)        (None, 120, 16)           16000     \n",
            "_________________________________________________________________\n",
            "bidirectional (Bidirectional (None, 64)                12544     \n",
            "_________________________________________________________________\n",
            "dense (Dense)                (None, 24)                1560      \n",
            "_________________________________________________________________\n",
            "dense_1 (Dense)              (None, 1)                 25        \n",
            "=================================================================\n",
            "Total params: 30,129\n",
            "Trainable params: 30,129\n",
            "Non-trainable params: 0\n",
            "_________________________________________________________________\n",
            "Epoch 1/50\n",
            "625/625 [==============================] - 38s 61ms/step - loss: 0.4572 - accuracy: 0.7663 - val_loss: 0.3871 - val_accuracy: 0.8208\n",
            "Epoch 2/50\n",
            "625/625 [==============================] - 37s 59ms/step - loss: 0.3539 - accuracy: 0.8361 - val_loss: 0.3705 - val_accuracy: 0.8278\n",
            "Epoch 3/50\n",
            "625/625 [==============================] - 37s 59ms/step - loss: 0.3273 - accuracy: 0.8527 - val_loss: 0.3681 - val_accuracy: 0.8338\n",
            "Epoch 4/50\n",
            "625/625 [==============================] - 37s 59ms/step - loss: 0.3100 - accuracy: 0.8613 - val_loss: 0.3758 - val_accuracy: 0.8357\n",
            "Epoch 5/50\n",
            "625/625 [==============================] - 37s 59ms/step - loss: 0.2977 - accuracy: 0.8687 - val_loss: 0.3780 - val_accuracy: 0.8317\n",
            "Epoch 6/50\n",
            "625/625 [==============================] - 37s 59ms/step - loss: 0.2879 - accuracy: 0.8741 - val_loss: 0.3817 - val_accuracy: 0.8319\n",
            "Epoch 7/50\n",
            "625/625 [==============================] - 37s 59ms/step - loss: 0.2810 - accuracy: 0.8763 - val_loss: 0.3872 - val_accuracy: 0.8296\n",
            "Epoch 8/50\n",
            "625/625 [==============================] - 37s 59ms/step - loss: 0.2740 - accuracy: 0.8785 - val_loss: 0.3838 - val_accuracy: 0.8329\n",
            "Epoch 9/50\n",
            "625/625 [==============================] - 37s 59ms/step - loss: 0.2673 - accuracy: 0.8824 - val_loss: 0.3890 - val_accuracy: 0.8268\n",
            "Epoch 10/50\n",
            "625/625 [==============================] - 37s 59ms/step - loss: 0.2607 - accuracy: 0.8856 - val_loss: 0.4037 - val_accuracy: 0.8265\n",
            "Epoch 11/50\n",
            "625/625 [==============================] - 37s 59ms/step - loss: 0.2522 - accuracy: 0.8913 - val_loss: 0.4192 - val_accuracy: 0.8225\n",
            "Epoch 12/50\n",
            "625/625 [==============================] - 37s 59ms/step - loss: 0.2456 - accuracy: 0.8951 - val_loss: 0.4391 - val_accuracy: 0.8249\n",
            "Epoch 13/50\n",
            "625/625 [==============================] - 37s 59ms/step - loss: 0.2395 - accuracy: 0.8959 - val_loss: 0.4175 - val_accuracy: 0.8243\n",
            "Epoch 14/50\n",
            "625/625 [==============================] - 37s 59ms/step - loss: 0.2320 - accuracy: 0.9012 - val_loss: 0.4290 - val_accuracy: 0.8283\n",
            "Epoch 15/50\n",
            "625/625 [==============================] - 37s 59ms/step - loss: 0.2249 - accuracy: 0.9029 - val_loss: 0.4479 - val_accuracy: 0.8237\n",
            "Epoch 16/50\n",
            "625/625 [==============================] - 37s 59ms/step - loss: 0.2163 - accuracy: 0.9085 - val_loss: 0.4707 - val_accuracy: 0.8223\n",
            "Epoch 17/50\n",
            "625/625 [==============================] - 37s 59ms/step - loss: 0.2072 - accuracy: 0.9130 - val_loss: 0.5244 - val_accuracy: 0.8179\n",
            "Epoch 18/50\n",
            "625/625 [==============================] - 37s 59ms/step - loss: 0.2018 - accuracy: 0.9162 - val_loss: 0.4915 - val_accuracy: 0.8177\n",
            "Epoch 19/50\n",
            "625/625 [==============================] - 37s 59ms/step - loss: 0.1968 - accuracy: 0.9180 - val_loss: 0.5249 - val_accuracy: 0.8173\n",
            "Epoch 20/50\n",
            "625/625 [==============================] - 37s 59ms/step - loss: 0.1879 - accuracy: 0.9223 - val_loss: 0.5574 - val_accuracy: 0.8180\n",
            "Epoch 21/50\n",
            "625/625 [==============================] - 37s 59ms/step - loss: 0.1780 - accuracy: 0.9258 - val_loss: 0.6101 - val_accuracy: 0.8167\n",
            "Epoch 22/50\n",
            "625/625 [==============================] - 37s 59ms/step - loss: 0.1743 - accuracy: 0.9289 - val_loss: 0.5299 - val_accuracy: 0.8132\n",
            "Epoch 23/50\n",
            "625/625 [==============================] - 37s 59ms/step - loss: 0.1655 - accuracy: 0.9319 - val_loss: 0.5849 - val_accuracy: 0.8123\n",
            "Epoch 24/50\n",
            "625/625 [==============================] - 37s 59ms/step - loss: 0.1558 - accuracy: 0.9367 - val_loss: 0.6317 - val_accuracy: 0.8091\n",
            "Epoch 25/50\n",
            "625/625 [==============================] - 37s 59ms/step - loss: 0.1504 - accuracy: 0.9377 - val_loss: 0.6524 - val_accuracy: 0.8083\n",
            "Epoch 26/50\n",
            "625/625 [==============================] - 37s 59ms/step - loss: 0.1444 - accuracy: 0.9399 - val_loss: 0.7440 - val_accuracy: 0.8058\n",
            "Epoch 27/50\n",
            "625/625 [==============================] - 37s 59ms/step - loss: 0.1371 - accuracy: 0.9454 - val_loss: 0.7362 - val_accuracy: 0.8052\n",
            "Epoch 28/50\n",
            "625/625 [==============================] - 37s 59ms/step - loss: 0.1301 - accuracy: 0.9473 - val_loss: 0.8686 - val_accuracy: 0.8046\n",
            "Epoch 29/50\n",
            "625/625 [==============================] - 37s 58ms/step - loss: 0.1248 - accuracy: 0.9480 - val_loss: 0.9286 - val_accuracy: 0.8052\n",
            "Epoch 30/50\n",
            "625/625 [==============================] - 37s 59ms/step - loss: 0.1203 - accuracy: 0.9529 - val_loss: 0.8357 - val_accuracy: 0.8076\n",
            "Epoch 31/50\n",
            "625/625 [==============================] - 37s 58ms/step - loss: 0.1109 - accuracy: 0.9559 - val_loss: 1.0378 - val_accuracy: 0.8018\n",
            "Epoch 32/50\n",
            "625/625 [==============================] - 37s 59ms/step - loss: 0.1090 - accuracy: 0.9566 - val_loss: 1.0194 - val_accuracy: 0.8068\n",
            "Epoch 33/50\n",
            "625/625 [==============================] - 37s 59ms/step - loss: 0.1100 - accuracy: 0.9557 - val_loss: 1.0390 - val_accuracy: 0.8018\n",
            "Epoch 34/50\n",
            "625/625 [==============================] - 37s 59ms/step - loss: 0.0959 - accuracy: 0.9628 - val_loss: 1.1069 - val_accuracy: 0.8027\n",
            "Epoch 35/50\n",
            "625/625 [==============================] - 37s 59ms/step - loss: 0.0908 - accuracy: 0.9638 - val_loss: 1.1829 - val_accuracy: 0.7983\n",
            "Epoch 36/50\n",
            "625/625 [==============================] - 37s 59ms/step - loss: 0.0907 - accuracy: 0.9645 - val_loss: 1.1445 - val_accuracy: 0.8001\n",
            "Epoch 37/50\n",
            "625/625 [==============================] - 37s 59ms/step - loss: 0.0865 - accuracy: 0.9653 - val_loss: 1.2606 - val_accuracy: 0.7992\n",
            "Epoch 38/50\n",
            "625/625 [==============================] - 37s 59ms/step - loss: 0.0853 - accuracy: 0.9676 - val_loss: 1.2742 - val_accuracy: 0.7961\n",
            "Epoch 39/50\n",
            "625/625 [==============================] - 37s 59ms/step - loss: 0.0785 - accuracy: 0.9689 - val_loss: 1.3411 - val_accuracy: 0.7970\n",
            "Epoch 40/50\n",
            "625/625 [==============================] - 37s 59ms/step - loss: 0.0840 - accuracy: 0.9669 - val_loss: 1.3059 - val_accuracy: 0.7959\n",
            "Epoch 41/50\n",
            "625/625 [==============================] - 37s 59ms/step - loss: 0.0748 - accuracy: 0.9692 - val_loss: 1.3877 - val_accuracy: 0.8019\n",
            "Epoch 42/50\n",
            "625/625 [==============================] - 37s 59ms/step - loss: 0.0686 - accuracy: 0.9729 - val_loss: 1.4547 - val_accuracy: 0.7958\n",
            "Epoch 43/50\n",
            "625/625 [==============================] - 37s 59ms/step - loss: 0.0645 - accuracy: 0.9743 - val_loss: 1.5710 - val_accuracy: 0.7930\n",
            "Epoch 44/50\n",
            "625/625 [==============================] - 37s 59ms/step - loss: 0.0623 - accuracy: 0.9745 - val_loss: 1.6274 - val_accuracy: 0.7961\n",
            "Epoch 45/50\n",
            "625/625 [==============================] - 37s 59ms/step - loss: 0.0639 - accuracy: 0.9741 - val_loss: 1.6527 - val_accuracy: 0.7952\n",
            "Epoch 46/50\n",
            "625/625 [==============================] - 37s 59ms/step - loss: 0.0778 - accuracy: 0.9693 - val_loss: 1.5580 - val_accuracy: 0.7930\n",
            "Epoch 47/50\n",
            "625/625 [==============================] - 37s 59ms/step - loss: 0.0662 - accuracy: 0.9732 - val_loss: 1.5809 - val_accuracy: 0.7973\n",
            "Epoch 48/50\n",
            "625/625 [==============================] - 37s 59ms/step - loss: 0.0550 - accuracy: 0.9774 - val_loss: 1.6797 - val_accuracy: 0.7946\n",
            "Epoch 49/50\n",
            "625/625 [==============================] - 37s 59ms/step - loss: 0.0538 - accuracy: 0.9775 - val_loss: 1.7241 - val_accuracy: 0.7898\n",
            "Epoch 50/50\n",
            "625/625 [==============================] - 37s 59ms/step - loss: 0.0635 - accuracy: 0.9740 - val_loss: 1.6588 - val_accuracy: 0.7898\n"
          ],
          "name": "stdout"
        }
      ]
    },
    {
      "cell_type": "code",
      "metadata": {
        "colab_type": "code",
        "id": "g9DC6dmLF8DC",
        "colab": {
          "base_uri": "https://localhost:8080/",
          "height": 541
        },
        "outputId": "503f8896-aee6-4a16-8519-eb4cfc5a94be"
      },
      "source": [
        "import matplotlib.pyplot as plt\n",
        "\n",
        "\n",
        "def plot_graphs(history, string):\n",
        "  plt.plot(history.history[string])\n",
        "  plt.plot(history.history['val_'+string])\n",
        "  plt.xlabel(\"Epochs\")\n",
        "  plt.ylabel(string)\n",
        "  plt.legend([string, 'val_'+string])\n",
        "  plt.show()\n",
        "\n",
        "plot_graphs(history, 'accuracy')\n",
        "plot_graphs(history, 'loss')"
      ],
      "execution_count": null,
      "outputs": [
        {
          "output_type": "display_data",
          "data": {
            "image/png": "[encoded data removed]",
            "text/plain": [
              "<Figure size 432x288 with 1 Axes>"
            ]
          },
          "metadata": {
            "tags": [],
            "needs_background": "light"
          }
        },
        {
          "output_type": "display_data",
          "data": {
            "image/png": "[encoded data removed]",
            "text/plain": [
              "<Figure size 432x288 with 1 Axes>"
            ]
          },
          "metadata": {
            "tags": [],
            "needs_background": "light"
          }
        }
      ]
    },
    {
      "cell_type": "code",
      "metadata": {
        "colab_type": "code",
        "id": "7ZEZIUppGhdi",
        "colab": {}
      },
      "source": [
        "model.save(\"test.h5\")"
      ],
      "execution_count": null,
      "outputs": []
    },
    {
      "cell_type": "code",
      "metadata": {
        "id": "FgpIHoDeDd2I",
        "colab_type": "code",
        "colab": {}
      },
      "source": [
        ""
      ],
      "execution_count": null,
      "outputs": []
    }
  ]
}