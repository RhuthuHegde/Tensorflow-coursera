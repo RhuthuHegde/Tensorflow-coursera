{
  "nbformat": 4,
  "nbformat_minor": 0,
  "metadata": {
    "accelerator": "GPU",
    "colab": {
      "name": "Copy of NLP Course - Week 3 Exercise Answer.ipynb",
      "provenance": [],
      "toc_visible": true,
      "include_colab_link": true
    },
    "kernelspec": {
      "display_name": "Python 3",
      "language": "python",
      "name": "python3"
    },
    "language_info": {
      "codemirror_mode": {
        "name": "ipython",
        "version": 3
      },
      "file_extension": ".py",
      "mimetype": "text/x-python",
      "name": "python",
      "nbconvert_exporter": "python",
      "pygments_lexer": "ipython3",
      "version": "3.7.6"
    }
  },
  "cells": [
    {
      "cell_type": "markdown",
      "metadata": {
        "id": "view-in-github",
        "colab_type": "text"
      },
      "source": [
        "<a href=\"https://colab.research.google.com/github/RhuthuHegde/Tensorflow-coursera/blob/master/Copy_of_NLP_Course_Week_3_Exercise_Answer.ipynb\" target=\"_parent\"><img src=\"https://colab.research.google.com/assets/colab-badge.svg\" alt=\"Open In Colab\"/></a>"
      ]
    },
    {
      "cell_type": "code",
      "metadata": {
        "colab_type": "code",
        "id": "zX4Kg8DUTKWO",
        "colab": {}
      },
      "source": [
        "#@title Licensed under the Apache License, Version 2.0 (the \"License\");\n",
        "# you may not use this file except in compliance with the License.\n",
        "# You may obtain a copy of the License at\n",
        "#\n",
        "# https://www.apache.org/licenses/LICENSE-2.0\n",
        "#\n",
        "# Unless required by applicable law or agreed to in writing, software\n",
        "# distributed under the License is distributed on an \"AS IS\" BASIS,\n",
        "# WITHOUT WARRANTIES OR CONDITIONS OF ANY KIND, either express or implied.\n",
        "# See the License for the specific language governing permissions and\n",
        "# limitations under the License."
      ],
      "execution_count": null,
      "outputs": []
    },
    {
      "cell_type": "markdown",
      "metadata": {
        "id": "YPr8vzGMV4OP",
        "colab_type": "text"
      },
      "source": [
        "<a href=\"https://colab.research.google.com/github/lmoroney/dlaicourse/blob/master/TensorFlow%20In%20Practice/Course%203%20-%20NLP/NLP%20Course%20-%20Week%203%20Exercise%20Answer.ipynb\" target=\"_parent\"><img src=\"https://colab.research.google.com/assets/colab-badge.svg\" alt=\"Open In Colab\"/></a>"
      ]
    },
    {
      "cell_type": "code",
      "metadata": {
        "colab_type": "code",
        "id": "hmA6EzkQJ5jt",
        "colab": {}
      },
      "source": [
        "import json\n",
        "import tensorflow as tf\n",
        "import csv\n",
        "import random\n",
        "import numpy as np\n",
        "\n",
        "from tensorflow.keras.preprocessing.text import Tokenizer\n",
        "from tensorflow.keras.preprocessing.sequence import pad_sequences\n",
        "from tensorflow.keras.utils import to_categorical\n",
        "from tensorflow.keras import regularizers\n",
        "\n",
        "\n",
        "embedding_dim = 100\n",
        "max_length = 16\n",
        "trunc_type='post'\n",
        "padding_type='post'\n",
        "oov_tok = \"<OOV>\"\n",
        "training_size=160000\n",
        "test_portion=.1\n",
        "\n",
        "corpus = []\n"
      ],
      "execution_count": null,
      "outputs": []
    },
    {
      "cell_type": "code",
      "metadata": {
        "colab_type": "code",
        "id": "bM0l_dORKqE0",
        "colab": {
          "base_uri": "https://localhost:8080/",
          "height": 204
        },
        "outputId": "e26d16ec-73e8-4475-baa3-fd31f70412a2"
      },
      "source": [
        "# Note that I cleaned the Stanford dataset to remove LATIN1 encoding to make it easier for Python CSV reader\n",
        "# You can do that yourself with:\n",
        "# iconv -f LATIN1 -t UTF8 training.1600000.processed.noemoticon.csv -o training_cleaned.csv\n",
        "# I then hosted it on my site to make it easier to use in this notebook\n",
        "\n",
        "!wget --no-check-certificate \\\n",
        "    https://storage.googleapis.com/laurencemoroney-blog.appspot.com/training_cleaned.csv \\\n",
        "    -O /tmp/training_cleaned.csv\n",
        "\n",
        "num_sentences = 0\n",
        "\n",
        "with open(\"/tmp/training_cleaned.csv\") as csvfile:\n",
        "    reader = csv.reader(csvfile, delimiter=',')\n",
        "    for row in reader:\n",
        "        list_item=[]\n",
        "        list_item.append(row[5])\n",
        "        this_label=row[0]\n",
        "        if this_label=='0':\n",
        "            list_item.append(0)\n",
        "        else:\n",
        "            list_item.append(1)\n",
        "        num_sentences = num_sentences + 1\n",
        "        corpus.append(list_item)\n"
      ],
      "execution_count": null,
      "outputs": [
        {
          "output_type": "stream",
          "text": [
            "--2020-08-04 07:20:50--  https://storage.googleapis.com/laurencemoroney-blog.appspot.com/training_cleaned.csv\n",
            "Resolving storage.googleapis.com (storage.googleapis.com)... 66.102.1.128, 64.233.166.128, 74.125.133.128, ...\n",
            "Connecting to storage.googleapis.com (storage.googleapis.com)|66.102.1.128|:443... connected.\n",
            "HTTP request sent, awaiting response... 200 OK\n",
            "Length: 238942690 (228M) [application/octet-stream]\n",
            "Saving to: ‘/tmp/training_cleaned.csv’\n",
            "\n",
            "\r          /tmp/trai   0%[                    ]       0  --.-KB/s               \r         /tmp/train  10%[=>                  ]  23.08M   115MB/s               \r        /tmp/traini  20%[===>                ]  46.77M   117MB/s               \r       /tmp/trainin  33%[=====>              ]  76.36M   127MB/s               \r      /tmp/training  54%[=========>          ] 124.32M   155MB/s               \r     /tmp/training_  67%[============>       ] 154.50M   154MB/s               \r    /tmp/training_c  88%[================>   ] 201.81M   168MB/s               \r/tmp/training_clean 100%[===================>] 227.87M   173MB/s    in 1.3s    \n",
            "\n",
            "2020-08-04 07:20:51 (173 MB/s) - ‘/tmp/training_cleaned.csv’ saved [238942690/238942690]\n",
            "\n"
          ],
          "name": "stdout"
        }
      ]
    },
    {
      "cell_type": "code",
      "metadata": {
        "colab_type": "code",
        "id": "3kxblBUjEUX-",
        "colab": {
          "base_uri": "https://localhost:8080/",
          "height": 68
        },
        "outputId": "cdb35d09-6a16-42f2-8bf5-2257fb305734"
      },
      "source": [
        "print(num_sentences)\n",
        "print(len(corpus))\n",
        "print(corpus[1])\n",
        "\n",
        "# Expected Output:\n",
        "# 1600000\n",
        "# 1600000\n",
        "# [\"is upset that he can't update his Facebook by texting it... and might cry as a result  School today also. Blah!\", 0]"
      ],
      "execution_count": null,
      "outputs": [
        {
          "output_type": "stream",
          "text": [
            "1600000\n",
            "1600000\n",
            "[\"is upset that he can't update his Facebook by texting it... and might cry as a result  School today also. Blah!\", 0]\n"
          ],
          "name": "stdout"
        }
      ]
    },
    {
      "cell_type": "code",
      "metadata": {
        "colab_type": "code",
        "id": "ohOGz24lsNAD",
        "colab": {}
      },
      "source": [
        "sentences=[]\n",
        "labels=[]\n",
        "random.shuffle(corpus)\n",
        "for x in range(training_size):\n",
        "    sentences.append(corpus[x][0])\n",
        "    labels.append(corpus[x][1])\n",
        "\n",
        "\n",
        "tokenizer = Tokenizer()\n",
        "tokenizer.fit_on_texts(sentences)\n",
        "\n",
        "word_index = tokenizer.word_index\n",
        "vocab_size=len(word_index)\n",
        "\n",
        "sequences = tokenizer.texts_to_sequences(sentences)\n",
        "padded = pad_sequences(sequences, maxlen=max_length, padding=padding_type, truncating=trunc_type)\n",
        "\n",
        "split = int(test_portion * training_size)\n",
        "\n",
        "test_sequences = padded[0:split]\n",
        "training_sequences = padded[split:training_size]\n",
        "test_labels = labels[0:split]\n",
        "training_labels = labels[split:training_size]"
      ],
      "execution_count": null,
      "outputs": []
    },
    {
      "cell_type": "code",
      "metadata": {
        "colab_type": "code",
        "id": "gIrtRem1En3N",
        "colab": {
          "base_uri": "https://localhost:8080/",
          "height": 51
        },
        "outputId": "95c1df85-654f-474b-d81d-ef2c2ea51780"
      },
      "source": [
        "print(vocab_size)\n",
        "print(word_index['i'])\n",
        "# Expected Output\n",
        "# 138858\n",
        "# 1"
      ],
      "execution_count": null,
      "outputs": [
        {
          "output_type": "stream",
          "text": [
            "138567\n",
            "1\n"
          ],
          "name": "stdout"
        }
      ]
    },
    {
      "cell_type": "code",
      "metadata": {
        "colab_type": "code",
        "id": "C1zdgJkusRh0",
        "colab": {
          "base_uri": "https://localhost:8080/",
          "height": 204
        },
        "outputId": "df83ad6a-b47e-42f2-a3b1-d4f7678ab047"
      },
      "source": [
        "# Note this is the 100 dimension version of GloVe from Stanford\n",
        "# I unzipped and hosted it on my site to make this notebook easier\n",
        "!wget --no-check-certificate \\\n",
        "    https://storage.googleapis.com/laurencemoroney-blog.appspot.com/glove.6B.100d.txt \\\n",
        "    -O /tmp/glove.6B.100d.txt\n",
        "embeddings_index = {};\n",
        "with open('/tmp/glove.6B.100d.txt') as f:\n",
        "    for line in f:\n",
        "        values = line.split();\n",
        "        word = values[0];\n",
        "        coefs = np.asarray(values[1:], dtype='float32');\n",
        "        embeddings_index[word] = coefs;\n",
        "\n",
        "embeddings_matrix = np.zeros((vocab_size+1, embedding_dim));\n",
        "for word, i in word_index.items():\n",
        "    embedding_vector = embeddings_index.get(word);\n",
        "    if embedding_vector is not None:\n",
        "        embeddings_matrix[i] = embedding_vector;"
      ],
      "execution_count": null,
      "outputs": [
        {
          "output_type": "stream",
          "text": [
            "--2020-08-04 07:21:36--  https://storage.googleapis.com/laurencemoroney-blog.appspot.com/glove.6B.100d.txt\n",
            "Resolving storage.googleapis.com (storage.googleapis.com)... 173.194.76.128, 74.125.71.128, 74.125.133.128, ...\n",
            "Connecting to storage.googleapis.com (storage.googleapis.com)|173.194.76.128|:443... connected.\n",
            "HTTP request sent, awaiting response... 200 OK\n",
            "Length: 347116733 (331M) [text/plain]\n",
            "Saving to: ‘/tmp/glove.6B.100d.txt’\n",
            "\n",
            "/tmp/glove.6B.100d. 100%[===================>] 331.04M  43.8MB/s    in 8.6s    \n",
            "\n",
            "2020-08-04 07:21:46 (38.5 MB/s) - ‘/tmp/glove.6B.100d.txt’ saved [347116733/347116733]\n",
            "\n"
          ],
          "name": "stdout"
        }
      ]
    },
    {
      "cell_type": "code",
      "metadata": {
        "colab_type": "code",
        "id": "71NLk_lpFLNt",
        "colab": {
          "base_uri": "https://localhost:8080/",
          "height": 34
        },
        "outputId": "ab223301-99ff-4825-d143-f7cec189d38e"
      },
      "source": [
        "print(len(embeddings_matrix))\n",
        "# Expected Output\n",
        "# 138859"
      ],
      "execution_count": null,
      "outputs": [
        {
          "output_type": "stream",
          "text": [
            "138568\n"
          ],
          "name": "stdout"
        }
      ]
    },
    {
      "cell_type": "code",
      "metadata": {
        "colab_type": "code",
        "id": "iKKvbuEBOGFz",
        "colab": {
          "base_uri": "https://localhost:8080/",
          "height": 1000
        },
        "outputId": "7b600d6b-d385-4946-e43c-102bd503a03d"
      },
      "source": [
        "model = tf.keras.Sequential([\n",
        "    tf.keras.layers.Embedding(vocab_size+1, embedding_dim, input_length=max_length, weights=[embeddings_matrix], trainable=False),\n",
        "    tf.keras.layers.Dropout(0.2),\n",
        "    tf.keras.layers.Conv1D(64, 5, activation='relu'),\n",
        "    tf.keras.layers.MaxPooling1D(pool_size=4),\n",
        "    tf.keras.layers.LSTM(64),\n",
        "    tf.keras.layers.Dense(1, activation='sigmoid')\n",
        "])\n",
        "model.compile(loss='binary_crossentropy',optimizer='adam',metrics=['accuracy'])\n",
        "model.summary()\n",
        "\n",
        "num_epochs = 50\n",
        "\n",
        "training_padded = np.array(training_sequences)\n",
        "training_labels = np.array(training_labels)\n",
        "testing_padded = np.array(test_sequences)\n",
        "testing_labels = np.array(test_labels)\n",
        "\n",
        "history = model.fit(training_padded, training_labels, epochs=num_epochs, validation_data=(testing_padded, testing_labels), verbose=2)\n",
        "\n",
        "print(\"Training Complete\")"
      ],
      "execution_count": null,
      "outputs": [
        {
          "output_type": "stream",
          "text": [
            "Model: \"sequential\"\n",
            "_________________________________________________________________\n",
            "Layer (type)                 Output Shape              Param #   \n",
            "=================================================================\n",
            "embedding (Embedding)        (None, 16, 100)           13856800  \n",
            "_________________________________________________________________\n",
            "dropout (Dropout)            (None, 16, 100)           0         \n",
            "_________________________________________________________________\n",
            "conv1d (Conv1D)              (None, 12, 64)            32064     \n",
            "_________________________________________________________________\n",
            "max_pooling1d (MaxPooling1D) (None, 3, 64)             0         \n",
            "_________________________________________________________________\n",
            "lstm (LSTM)                  (None, 64)                33024     \n",
            "_________________________________________________________________\n",
            "dense (Dense)                (None, 1)                 65        \n",
            "=================================================================\n",
            "Total params: 13,921,953\n",
            "Trainable params: 65,153\n",
            "Non-trainable params: 13,856,800\n",
            "_________________________________________________________________\n",
            "Epoch 1/50\n",
            "4500/4500 - 19s - loss: 0.5683 - accuracy: 0.6978 - val_loss: 0.5330 - val_accuracy: 0.7259\n",
            "Epoch 2/50\n",
            "4500/4500 - 19s - loss: 0.5295 - accuracy: 0.7302 - val_loss: 0.5145 - val_accuracy: 0.7404\n",
            "Epoch 3/50\n",
            "4500/4500 - 20s - loss: 0.5111 - accuracy: 0.7440 - val_loss: 0.5106 - val_accuracy: 0.7469\n",
            "Epoch 4/50\n",
            "4500/4500 - 20s - loss: 0.5008 - accuracy: 0.7520 - val_loss: 0.5070 - val_accuracy: 0.7491\n",
            "Epoch 5/50\n",
            "4500/4500 - 19s - loss: 0.4923 - accuracy: 0.7576 - val_loss: 0.5071 - val_accuracy: 0.7492\n",
            "Epoch 6/50\n",
            "4500/4500 - 20s - loss: 0.4855 - accuracy: 0.7608 - val_loss: 0.5073 - val_accuracy: 0.7505\n",
            "Epoch 7/50\n",
            "4500/4500 - 19s - loss: 0.4796 - accuracy: 0.7666 - val_loss: 0.5080 - val_accuracy: 0.7508\n",
            "Epoch 8/50\n",
            "4500/4500 - 19s - loss: 0.4734 - accuracy: 0.7693 - val_loss: 0.5072 - val_accuracy: 0.7478\n",
            "Epoch 9/50\n",
            "4500/4500 - 19s - loss: 0.4700 - accuracy: 0.7710 - val_loss: 0.5090 - val_accuracy: 0.7492\n",
            "Epoch 10/50\n",
            "4500/4500 - 19s - loss: 0.4653 - accuracy: 0.7738 - val_loss: 0.5077 - val_accuracy: 0.7466\n",
            "Epoch 11/50\n",
            "4500/4500 - 19s - loss: 0.4616 - accuracy: 0.7769 - val_loss: 0.5092 - val_accuracy: 0.7477\n",
            "Epoch 12/50\n",
            "4500/4500 - 19s - loss: 0.4592 - accuracy: 0.7798 - val_loss: 0.5115 - val_accuracy: 0.7498\n",
            "Epoch 13/50\n",
            "4500/4500 - 19s - loss: 0.4562 - accuracy: 0.7809 - val_loss: 0.5123 - val_accuracy: 0.7492\n",
            "Epoch 14/50\n",
            "4500/4500 - 19s - loss: 0.4543 - accuracy: 0.7810 - val_loss: 0.5156 - val_accuracy: 0.7492\n",
            "Epoch 15/50\n",
            "4500/4500 - 19s - loss: 0.4523 - accuracy: 0.7820 - val_loss: 0.5180 - val_accuracy: 0.7490\n",
            "Epoch 16/50\n",
            "4500/4500 - 19s - loss: 0.4495 - accuracy: 0.7840 - val_loss: 0.5292 - val_accuracy: 0.7396\n",
            "Epoch 17/50\n",
            "4500/4500 - 19s - loss: 0.4488 - accuracy: 0.7844 - val_loss: 0.5188 - val_accuracy: 0.7475\n",
            "Epoch 18/50\n",
            "4500/4500 - 19s - loss: 0.4477 - accuracy: 0.7855 - val_loss: 0.5160 - val_accuracy: 0.7484\n",
            "Epoch 19/50\n",
            "4500/4500 - 20s - loss: 0.4436 - accuracy: 0.7879 - val_loss: 0.5136 - val_accuracy: 0.7492\n",
            "Epoch 20/50\n",
            "4500/4500 - 20s - loss: 0.4437 - accuracy: 0.7878 - val_loss: 0.5157 - val_accuracy: 0.7509\n",
            "Epoch 21/50\n",
            "4500/4500 - 20s - loss: 0.4425 - accuracy: 0.7887 - val_loss: 0.5158 - val_accuracy: 0.7471\n",
            "Epoch 22/50\n",
            "4500/4500 - 19s - loss: 0.4413 - accuracy: 0.7897 - val_loss: 0.5165 - val_accuracy: 0.7443\n",
            "Epoch 23/50\n",
            "4500/4500 - 19s - loss: 0.4399 - accuracy: 0.7891 - val_loss: 0.5201 - val_accuracy: 0.7464\n",
            "Epoch 24/50\n",
            "4500/4500 - 19s - loss: 0.4384 - accuracy: 0.7909 - val_loss: 0.5314 - val_accuracy: 0.7427\n",
            "Epoch 25/50\n",
            "4500/4500 - 19s - loss: 0.4389 - accuracy: 0.7907 - val_loss: 0.5213 - val_accuracy: 0.7489\n",
            "Epoch 26/50\n",
            "4500/4500 - 19s - loss: 0.4381 - accuracy: 0.7912 - val_loss: 0.5236 - val_accuracy: 0.7474\n",
            "Epoch 27/50\n",
            "4500/4500 - 19s - loss: 0.4369 - accuracy: 0.7919 - val_loss: 0.5230 - val_accuracy: 0.7494\n",
            "Epoch 28/50\n",
            "4500/4500 - 19s - loss: 0.4352 - accuracy: 0.7929 - val_loss: 0.5252 - val_accuracy: 0.7462\n",
            "Epoch 29/50\n",
            "4500/4500 - 19s - loss: 0.4356 - accuracy: 0.7937 - val_loss: 0.5168 - val_accuracy: 0.7477\n",
            "Epoch 30/50\n",
            "4500/4500 - 19s - loss: 0.4346 - accuracy: 0.7934 - val_loss: 0.5213 - val_accuracy: 0.7466\n",
            "Epoch 31/50\n",
            "4500/4500 - 19s - loss: 0.4355 - accuracy: 0.7928 - val_loss: 0.5248 - val_accuracy: 0.7479\n",
            "Epoch 32/50\n",
            "4500/4500 - 19s - loss: 0.4334 - accuracy: 0.7934 - val_loss: 0.5222 - val_accuracy: 0.7474\n",
            "Epoch 33/50\n",
            "4500/4500 - 19s - loss: 0.4315 - accuracy: 0.7953 - val_loss: 0.5282 - val_accuracy: 0.7421\n",
            "Epoch 34/50\n",
            "4500/4500 - 19s - loss: 0.4318 - accuracy: 0.7953 - val_loss: 0.5301 - val_accuracy: 0.7448\n",
            "Epoch 35/50\n",
            "4500/4500 - 20s - loss: 0.4323 - accuracy: 0.7943 - val_loss: 0.5258 - val_accuracy: 0.7447\n",
            "Epoch 36/50\n",
            "4500/4500 - 20s - loss: 0.4314 - accuracy: 0.7952 - val_loss: 0.5287 - val_accuracy: 0.7441\n",
            "Epoch 37/50\n",
            "4500/4500 - 20s - loss: 0.4315 - accuracy: 0.7951 - val_loss: 0.5228 - val_accuracy: 0.7445\n",
            "Epoch 38/50\n",
            "4500/4500 - 19s - loss: 0.4305 - accuracy: 0.7956 - val_loss: 0.5280 - val_accuracy: 0.7414\n",
            "Epoch 39/50\n",
            "4500/4500 - 19s - loss: 0.4299 - accuracy: 0.7945 - val_loss: 0.5316 - val_accuracy: 0.7461\n",
            "Epoch 40/50\n",
            "4500/4500 - 19s - loss: 0.4289 - accuracy: 0.7968 - val_loss: 0.5266 - val_accuracy: 0.7462\n",
            "Epoch 41/50\n",
            "4500/4500 - 19s - loss: 0.4299 - accuracy: 0.7967 - val_loss: 0.5262 - val_accuracy: 0.7440\n",
            "Epoch 42/50\n",
            "4500/4500 - 19s - loss: 0.4293 - accuracy: 0.7964 - val_loss: 0.5298 - val_accuracy: 0.7454\n",
            "Epoch 43/50\n",
            "4500/4500 - 19s - loss: 0.4280 - accuracy: 0.7978 - val_loss: 0.5290 - val_accuracy: 0.7441\n",
            "Epoch 44/50\n",
            "4500/4500 - 19s - loss: 0.4279 - accuracy: 0.7970 - val_loss: 0.5259 - val_accuracy: 0.7455\n",
            "Epoch 45/50\n",
            "4500/4500 - 19s - loss: 0.4291 - accuracy: 0.7968 - val_loss: 0.5274 - val_accuracy: 0.7464\n",
            "Epoch 46/50\n",
            "4500/4500 - 19s - loss: 0.4288 - accuracy: 0.7973 - val_loss: 0.5266 - val_accuracy: 0.7465\n",
            "Epoch 47/50\n",
            "4500/4500 - 19s - loss: 0.4290 - accuracy: 0.7965 - val_loss: 0.5312 - val_accuracy: 0.7413\n",
            "Epoch 48/50\n",
            "4500/4500 - 19s - loss: 0.4293 - accuracy: 0.7973 - val_loss: 0.5300 - val_accuracy: 0.7421\n",
            "Epoch 49/50\n",
            "4500/4500 - 19s - loss: 0.4263 - accuracy: 0.7991 - val_loss: 0.5340 - val_accuracy: 0.7454\n",
            "Epoch 50/50\n",
            "4500/4500 - 19s - loss: 0.4276 - accuracy: 0.7976 - val_loss: 0.5319 - val_accuracy: 0.7393\n",
            "Training Complete\n"
          ],
          "name": "stdout"
        }
      ]
    },
    {
      "cell_type": "code",
      "metadata": {
        "colab_type": "code",
        "id": "qxju4ItJKO8F",
        "colab": {
          "base_uri": "https://localhost:8080/",
          "height": 607
        },
        "outputId": "dfec9f8c-ffce-4a2f-e121-68158a8ed40e"
      },
      "source": [
        "import matplotlib.image  as mpimg\n",
        "import matplotlib.pyplot as plt\n",
        "\n",
        "#-----------------------------------------------------------\n",
        "# Retrieve a list of list results on training and test data\n",
        "# sets for each training epoch\n",
        "#-----------------------------------------------------------\n",
        "acc=history.history['accuracy']\n",
        "val_acc=history.history['val_accuracy']\n",
        "loss=history.history['loss']\n",
        "val_loss=history.history['val_loss']\n",
        "\n",
        "epochs=range(len(acc)) # Get number of epochs\n",
        "\n",
        "#------------------------------------------------\n",
        "# Plot training and validation accuracy per epoch\n",
        "#------------------------------------------------\n",
        "plt.plot(epochs, acc, 'r')\n",
        "plt.plot(epochs, val_acc, 'b')\n",
        "plt.title('Training and validation accuracy')\n",
        "plt.xlabel(\"Epochs\")\n",
        "plt.ylabel(\"Accuracy\")\n",
        "plt.legend([\"Accuracy\", \"Validation Accuracy\"])\n",
        "\n",
        "plt.figure()\n",
        "\n",
        "#------------------------------------------------\n",
        "# Plot training and validation loss per epoch\n",
        "#------------------------------------------------\n",
        "plt.plot(epochs, loss, 'r')\n",
        "plt.plot(epochs, val_loss, 'b')\n",
        "plt.title('Training and validation loss')\n",
        "plt.xlabel(\"Epochs\")\n",
        "plt.ylabel(\"Loss\")\n",
        "plt.legend([\"Loss\", \"Validation Loss\"])\n",
        "\n",
        "plt.figure()\n",
        "\n",
        "\n",
        "# Expected Output\n",
        "# A chart where the validation loss does not increase sharply!"
      ],
      "execution_count": null,
      "outputs": [
        {
          "output_type": "execute_result",
          "data": {
            "text/plain": [
              "<Figure size 432x288 with 0 Axes>"
            ]
          },
          "metadata": {
            "tags": []
          },
          "execution_count": 10
        },
        {
          "output_type": "display_data",
          "data": {
            "image/png": "[encoded data removed]",
            "text/plain": [
              "<Figure size 432x288 with 1 Axes>"
            ]
          },
          "metadata": {
            "tags": [],
            "needs_background": "light"
          }
        },
        {
          "output_type": "display_data",
          "data": {
            "image/png": "[encoded data removed]",
            "text/plain": [
              "<Figure size 432x288 with 1 Axes>"
            ]
          },
          "metadata": {
            "tags": [],
            "needs_background": "light"
          }
        },
        {
          "output_type": "display_data",
          "data": {
            "text/plain": [
              "<Figure size 432x288 with 0 Axes>"
            ]
          },
          "metadata": {
            "tags": []
          }
        }
      ]
    },
    {
      "cell_type": "code",
      "metadata": {
        "id": "liFIKoTwagYk",
        "colab_type": "code",
        "colab": {}
      },
      "source": [
        ""
      ],
      "execution_count": null,
      "outputs": []
    }
  ]
}