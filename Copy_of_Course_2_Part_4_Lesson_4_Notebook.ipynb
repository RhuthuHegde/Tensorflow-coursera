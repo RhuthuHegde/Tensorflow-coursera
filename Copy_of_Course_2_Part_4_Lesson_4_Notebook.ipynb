{
  "nbformat": 4,
  "nbformat_minor": 0,
  "metadata": {
    "accelerator": "GPU",
    "colab": {
      "name": "Copy of Course 2 - Part 4 - Lesson 4 - Notebook.ipynb",
      "provenance": [],
      "collapsed_sections": [],
      "toc_visible": true,
      "include_colab_link": true
    },
    "kernelspec": {
      "display_name": "Python 3",
      "name": "python3"
    }
  },
  "cells": [
    {
      "cell_type": "markdown",
      "metadata": {
        "id": "view-in-github",
        "colab_type": "text"
      },
      "source": [
        "<a href=\"https://colab.research.google.com/github/RhuthuHegde/Tensorflow-coursera/blob/master/Copy_of_Course_2_Part_4_Lesson_4_Notebook.ipynb\" target=\"_parent\"><img src=\"https://colab.research.google.com/assets/colab-badge.svg\" alt=\"Open In Colab\"/></a>"
      ]
    },
    {
      "cell_type": "markdown",
      "metadata": {
        "colab_type": "text",
        "id": "rX8mhOLljYeM"
      },
      "source": [
        "##### Copyright 2019 The TensorFlow Authors."
      ]
    },
    {
      "cell_type": "code",
      "metadata": {
        "cellView": "form",
        "colab_type": "code",
        "id": "BZSlp3DAjdYf",
        "colab": {}
      },
      "source": [
        "#@title Licensed under the Apache License, Version 2.0 (the \"License\");\n",
        "# you may not use this file except in compliance with the License.\n",
        "# You may obtain a copy of the License at\n",
        "#\n",
        "# https://www.apache.org/licenses/LICENSE-2.0\n",
        "#\n",
        "# Unless required by applicable law or agreed to in writing, software\n",
        "# distributed under the License is distributed on an \"AS IS\" BASIS,\n",
        "# WITHOUT WARRANTIES OR CONDITIONS OF ANY KIND, either express or implied.\n",
        "# See the License for the specific language governing permissions and\n",
        "# limitations under the License."
      ],
      "execution_count": null,
      "outputs": []
    },
    {
      "cell_type": "code",
      "metadata": {
        "colab_type": "code",
        "id": "RXZT2UsyIVe_",
        "colab": {
          "base_uri": "https://localhost:8080/",
          "height": 391
        },
        "outputId": "4cc24a1f-81a8-4c67-b895-33ea69a96b66"
      },
      "source": [
        "!wget --no-check-certificate \\\n",
        "    https://storage.googleapis.com/laurencemoroney-blog.appspot.com/horse-or-human.zip \\\n",
        "    -O /tmp/horse-or-human.zip\n",
        "\n",
        "!wget --no-check-certificate \\\n",
        "    https://storage.googleapis.com/laurencemoroney-blog.appspot.com/validation-horse-or-human.zip \\\n",
        "    -O /tmp/validation-horse-or-human.zip\n",
        "  \n",
        "import os\n",
        "import zipfile\n",
        "\n",
        "local_zip = '/tmp/horse-or-human.zip'\n",
        "zip_ref = zipfile.ZipFile(local_zip, 'r')\n",
        "zip_ref.extractall('/tmp/horse-or-human')\n",
        "local_zip = '/tmp/validation-horse-or-human.zip'\n",
        "zip_ref = zipfile.ZipFile(local_zip, 'r')\n",
        "zip_ref.extractall('/tmp/validation-horse-or-human')\n",
        "zip_ref.close()\n",
        "# Directory with our training horse pictures\n",
        "train_horse_dir = os.path.join('/tmp/horse-or-human/horses')\n",
        "\n",
        "# Directory with our training human pictures\n",
        "train_human_dir = os.path.join('/tmp/horse-or-human/humans')\n",
        "\n",
        "# Directory with our training horse pictures\n",
        "validation_horse_dir = os.path.join('/tmp/validation-horse-or-human/horses')\n",
        "\n",
        "# Directory with our training human pictures\n",
        "validation_human_dir = os.path.join('/tmp/validation-horse-or-human/humans')"
      ],
      "execution_count": null,
      "outputs": [
        {
          "output_type": "stream",
          "text": [
            "--2020-06-28 06:36:45--  https://storage.googleapis.com/laurencemoroney-blog.appspot.com/horse-or-human.zip\n",
            "Resolving storage.googleapis.com (storage.googleapis.com)... 172.217.212.128, 172.217.214.128, 2607:f8b0:4001:c03::80\n",
            "Connecting to storage.googleapis.com (storage.googleapis.com)|172.217.212.128|:443... connected.\n",
            "HTTP request sent, awaiting response... 200 OK\n",
            "Length: 149574867 (143M) [application/zip]\n",
            "Saving to: ‘/tmp/horse-or-human.zip’\n",
            "\n",
            "\r/tmp/horse-or-human   0%[                    ]       0  --.-KB/s               \r/tmp/horse-or-human  11%[=>                  ]  16.01M  77.5MB/s               \r/tmp/horse-or-human  44%[=======>            ]  64.01M   150MB/s               \r/tmp/horse-or-human  68%[============>       ]  97.65M   156MB/s               \r/tmp/horse-or-human  92%[=================>  ] 132.38M   158MB/s               \r/tmp/horse-or-human 100%[===================>] 142.65M   159MB/s    in 0.9s    \n",
            "\n",
            "2020-06-28 06:36:46 (159 MB/s) - ‘/tmp/horse-or-human.zip’ saved [149574867/149574867]\n",
            "\n",
            "--2020-06-28 06:36:51--  https://storage.googleapis.com/laurencemoroney-blog.appspot.com/validation-horse-or-human.zip\n",
            "Resolving storage.googleapis.com (storage.googleapis.com)... 108.177.112.128, 172.217.212.128, 172.217.214.128, ...\n",
            "Connecting to storage.googleapis.com (storage.googleapis.com)|108.177.112.128|:443... connected.\n",
            "HTTP request sent, awaiting response... 200 OK\n",
            "Length: 11480187 (11M) [application/zip]\n",
            "Saving to: ‘/tmp/validation-horse-or-human.zip’\n",
            "\n",
            "/tmp/validation-hor 100%[===================>]  10.95M  31.1MB/s    in 0.4s    \n",
            "\n",
            "2020-06-28 06:36:51 (31.1 MB/s) - ‘/tmp/validation-horse-or-human.zip’ saved [11480187/11480187]\n",
            "\n"
          ],
          "name": "stdout"
        }
      ]
    },
    {
      "cell_type": "markdown",
      "metadata": {
        "colab_type": "text",
        "id": "5oqBkNBJmtUv"
      },
      "source": [
        "## Building a Small Model from Scratch\n",
        "\n",
        "But before we continue, let's start defining the model:\n",
        "\n",
        "Step 1 will be to import tensorflow."
      ]
    },
    {
      "cell_type": "code",
      "metadata": {
        "colab_type": "code",
        "id": "qvfZg3LQbD-5",
        "colab": {}
      },
      "source": [
        "import tensorflow as tf"
      ],
      "execution_count": null,
      "outputs": []
    },
    {
      "cell_type": "markdown",
      "metadata": {
        "colab_type": "text",
        "id": "BnhYCP4tdqjC"
      },
      "source": [
        "We then add convolutional layers as in the previous example, and flatten the final result to feed into the densely connected layers."
      ]
    },
    {
      "cell_type": "markdown",
      "metadata": {
        "colab_type": "text",
        "id": "gokG5HKpdtzm"
      },
      "source": [
        "Finally we add the densely connected layers. \n",
        "\n",
        "Note that because we are facing a two-class classification problem, i.e. a *binary classification problem*, we will end our network with a [*sigmoid* activation](https://wikipedia.org/wiki/Sigmoid_function), so that the output of our network will be a single scalar between 0 and 1, encoding the probability that the current image is class 1 (as opposed to class 0)."
      ]
    },
    {
      "cell_type": "code",
      "metadata": {
        "colab_type": "code",
        "id": "PixZ2s5QbYQ3",
        "colab": {}
      },
      "source": [
        "model = tf.keras.models.Sequential([\n",
        "    # Note the input shape is the desired size of the image 300x300 with 3 bytes color\n",
        "    # This is the first convolution\n",
        "    tf.keras.layers.Conv2D(16, (3,3), activation='relu', input_shape=(300, 300, 3)),\n",
        "    tf.keras.layers.MaxPooling2D(2, 2),\n",
        "    # The second convolution\n",
        "    tf.keras.layers.Conv2D(32, (3,3), activation='relu'),\n",
        "    tf.keras.layers.MaxPooling2D(2,2),\n",
        "    # The third convolution\n",
        "    tf.keras.layers.Conv2D(64, (3,3), activation='relu'),\n",
        "    tf.keras.layers.MaxPooling2D(2,2),\n",
        "    # The fourth convolution\n",
        "    tf.keras.layers.Conv2D(64, (3,3), activation='relu'),\n",
        "    tf.keras.layers.MaxPooling2D(2,2),\n",
        "    # The fifth convolution\n",
        "    tf.keras.layers.Conv2D(64, (3,3), activation='relu'),\n",
        "    tf.keras.layers.MaxPooling2D(2,2),\n",
        "    # Flatten the results to feed into a DNN\n",
        "    tf.keras.layers.Flatten(),\n",
        "    # 512 neuron hidden layer\n",
        "    tf.keras.layers.Dense(512, activation='relu'),\n",
        "    # Only 1 output neuron. It will contain a value from 0-1 where 0 for 1 class ('horses') and 1 for the other ('humans')\n",
        "    tf.keras.layers.Dense(1, activation='sigmoid')\n",
        "])"
      ],
      "execution_count": null,
      "outputs": []
    },
    {
      "cell_type": "code",
      "metadata": {
        "colab_type": "code",
        "id": "8DHWhFP_uhq3",
        "colab": {}
      },
      "source": [
        "from tensorflow.keras.optimizers import RMSprop\n",
        "\n",
        "model.compile(loss='binary_crossentropy',\n",
        "              optimizer=RMSprop(lr=1e-4),\n",
        "              metrics=['accuracy'])"
      ],
      "execution_count": null,
      "outputs": []
    },
    {
      "cell_type": "code",
      "metadata": {
        "colab_type": "code",
        "id": "ClebU9NJg99G",
        "colab": {
          "base_uri": "https://localhost:8080/",
          "height": 51
        },
        "outputId": "037ff8a5-73b7-401a-a720-70ea24d92281"
      },
      "source": [
        "from tensorflow.keras.preprocessing.image import ImageDataGenerator\n",
        "\n",
        "# All images will be rescaled by 1./255\n",
        "train_datagen = ImageDataGenerator(\n",
        "      rescale=1./255,\n",
        "      rotation_range=40,\n",
        "      width_shift_range=0.2,\n",
        "      height_shift_range=0.2,\n",
        "      shear_range=0.2,\n",
        "      zoom_range=0.2,\n",
        "      horizontal_flip=True,\n",
        "      fill_mode='nearest')\n",
        "\n",
        "validation_datagen = ImageDataGenerator(rescale=1/255)\n",
        "\n",
        "# Flow training images in batches of 128 using train_datagen generator\n",
        "train_generator = train_datagen.flow_from_directory(\n",
        "        '/tmp/horse-or-human/',  # This is the source directory for training images\n",
        "        target_size=(300, 300),  # All images will be resized to 150x150\n",
        "        batch_size=128,\n",
        "        # Since we use binary_crossentropy loss, we need binary labels\n",
        "        class_mode='binary')\n",
        "\n",
        "# Flow training images in batches of 128 using train_datagen generator\n",
        "validation_generator = validation_datagen.flow_from_directory(\n",
        "        '/tmp/validation-horse-or-human/',  # This is the source directory for training images\n",
        "        target_size=(300, 300),  # All images will be resized to 150x150\n",
        "        batch_size=32,\n",
        "        # Since we use binary_crossentropy loss, we need binary labels\n",
        "        class_mode='binary')"
      ],
      "execution_count": null,
      "outputs": [
        {
          "output_type": "stream",
          "text": [
            "Found 1027 images belonging to 2 classes.\n",
            "Found 256 images belonging to 2 classes.\n"
          ],
          "name": "stdout"
        }
      ]
    },
    {
      "cell_type": "code",
      "metadata": {
        "colab_type": "code",
        "id": "Fb1_lgobv81m",
        "colab": {
          "base_uri": "https://localhost:8080/",
          "height": 1000
        },
        "outputId": "d16bcd5c-7473-48d2-d3c8-c6fbbccef7e7"
      },
      "source": [
        "history = model.fit(\n",
        "      train_generator,\n",
        "      steps_per_epoch=8,  \n",
        "      epochs=100,\n",
        "      verbose=1,\n",
        "      validation_data = validation_generator,\n",
        "      validation_steps=8)"
      ],
      "execution_count": null,
      "outputs": [
        {
          "output_type": "stream",
          "text": [
            "Epoch 1/100\n",
            "8/8 [==============================] - 22s 3s/step - loss: 0.6853 - accuracy: 0.5518 - val_loss: 0.6486 - val_accuracy: 0.7969\n",
            "Epoch 2/100\n",
            "8/8 [==============================] - 22s 3s/step - loss: 0.6539 - accuracy: 0.6229 - val_loss: 0.6070 - val_accuracy: 0.6602\n",
            "Epoch 3/100\n",
            "8/8 [==============================] - 22s 3s/step - loss: 0.6531 - accuracy: 0.6329 - val_loss: 0.5974 - val_accuracy: 0.6250\n",
            "Epoch 4/100\n",
            "8/8 [==============================] - 25s 3s/step - loss: 0.6040 - accuracy: 0.7086 - val_loss: 0.5143 - val_accuracy: 0.7969\n",
            "Epoch 5/100\n",
            "8/8 [==============================] - 25s 3s/step - loss: 0.5886 - accuracy: 0.6963 - val_loss: 0.6862 - val_accuracy: 0.5508\n",
            "Epoch 6/100\n",
            "8/8 [==============================] - 24s 3s/step - loss: 0.5571 - accuracy: 0.7383 - val_loss: 0.4280 - val_accuracy: 0.8438\n",
            "Epoch 7/100\n",
            "8/8 [==============================] - 22s 3s/step - loss: 0.5926 - accuracy: 0.6919 - val_loss: 0.8617 - val_accuracy: 0.5391\n",
            "Epoch 8/100\n",
            "8/8 [==============================] - 22s 3s/step - loss: 0.5250 - accuracy: 0.7286 - val_loss: 0.9072 - val_accuracy: 0.5469\n",
            "Epoch 9/100\n",
            "8/8 [==============================] - 24s 3s/step - loss: 0.5161 - accuracy: 0.7461 - val_loss: 1.1692 - val_accuracy: 0.5273\n",
            "Epoch 10/100\n",
            "8/8 [==============================] - 22s 3s/step - loss: 0.4828 - accuracy: 0.7775 - val_loss: 2.0399 - val_accuracy: 0.5000\n",
            "Epoch 11/100\n",
            "8/8 [==============================] - 22s 3s/step - loss: 0.5392 - accuracy: 0.7564 - val_loss: 0.6301 - val_accuracy: 0.7031\n",
            "Epoch 12/100\n",
            "8/8 [==============================] - 22s 3s/step - loss: 0.4583 - accuracy: 0.7898 - val_loss: 1.1327 - val_accuracy: 0.5430\n",
            "Epoch 13/100\n",
            "8/8 [==============================] - 22s 3s/step - loss: 0.5459 - accuracy: 0.7097 - val_loss: 0.8834 - val_accuracy: 0.5977\n",
            "Epoch 14/100\n",
            "8/8 [==============================] - 22s 3s/step - loss: 0.4472 - accuracy: 0.8131 - val_loss: 1.3238 - val_accuracy: 0.5352\n",
            "Epoch 15/100\n",
            "8/8 [==============================] - 22s 3s/step - loss: 0.4702 - accuracy: 0.7798 - val_loss: 1.0409 - val_accuracy: 0.6094\n",
            "Epoch 16/100\n",
            "8/8 [==============================] - 22s 3s/step - loss: 0.4161 - accuracy: 0.8154 - val_loss: 1.0550 - val_accuracy: 0.6094\n",
            "Epoch 17/100\n",
            "8/8 [==============================] - 22s 3s/step - loss: 0.4613 - accuracy: 0.7764 - val_loss: 0.9382 - val_accuracy: 0.6055\n",
            "Epoch 18/100\n",
            "8/8 [==============================] - 24s 3s/step - loss: 0.4078 - accuracy: 0.8320 - val_loss: 1.1329 - val_accuracy: 0.6016\n",
            "Epoch 19/100\n",
            "8/8 [==============================] - 22s 3s/step - loss: 0.4831 - accuracy: 0.7497 - val_loss: 1.0238 - val_accuracy: 0.6016\n",
            "Epoch 20/100\n",
            "8/8 [==============================] - 22s 3s/step - loss: 0.4084 - accuracy: 0.8231 - val_loss: 2.5398 - val_accuracy: 0.5000\n",
            "Epoch 21/100\n",
            "8/8 [==============================] - 25s 3s/step - loss: 0.4181 - accuracy: 0.7998 - val_loss: 1.1526 - val_accuracy: 0.6172\n",
            "Epoch 22/100\n",
            "8/8 [==============================] - 22s 3s/step - loss: 0.3873 - accuracy: 0.8320 - val_loss: 0.9872 - val_accuracy: 0.6641\n",
            "Epoch 23/100\n",
            "8/8 [==============================] - 24s 3s/step - loss: 0.4079 - accuracy: 0.8125 - val_loss: 1.7711 - val_accuracy: 0.5508\n",
            "Epoch 24/100\n",
            "8/8 [==============================] - 22s 3s/step - loss: 0.4535 - accuracy: 0.8009 - val_loss: 1.2781 - val_accuracy: 0.5859\n",
            "Epoch 25/100\n",
            "8/8 [==============================] - 22s 3s/step - loss: 0.4163 - accuracy: 0.8154 - val_loss: 1.2095 - val_accuracy: 0.5859\n",
            "Epoch 26/100\n",
            "8/8 [==============================] - 22s 3s/step - loss: 0.3532 - accuracy: 0.8521 - val_loss: 1.5858 - val_accuracy: 0.5703\n",
            "Epoch 27/100\n",
            "8/8 [==============================] - 22s 3s/step - loss: 0.4300 - accuracy: 0.8065 - val_loss: 1.3481 - val_accuracy: 0.5742\n",
            "Epoch 28/100\n",
            "8/8 [==============================] - 22s 3s/step - loss: 0.3204 - accuracy: 0.8765 - val_loss: 0.7835 - val_accuracy: 0.7305\n",
            "Epoch 29/100\n",
            "8/8 [==============================] - 22s 3s/step - loss: 0.4355 - accuracy: 0.7976 - val_loss: 1.2114 - val_accuracy: 0.6328\n",
            "Epoch 30/100\n",
            "8/8 [==============================] - 22s 3s/step - loss: 0.3361 - accuracy: 0.8476 - val_loss: 1.4358 - val_accuracy: 0.6055\n",
            "Epoch 31/100\n",
            "8/8 [==============================] - 22s 3s/step - loss: 0.3174 - accuracy: 0.8676 - val_loss: 2.0267 - val_accuracy: 0.5469\n",
            "Epoch 32/100\n",
            "8/8 [==============================] - 26s 3s/step - loss: 0.3311 - accuracy: 0.8623 - val_loss: 2.2362 - val_accuracy: 0.5430\n",
            "Epoch 33/100\n",
            "8/8 [==============================] - 23s 3s/step - loss: 0.3721 - accuracy: 0.8276 - val_loss: 1.2560 - val_accuracy: 0.6250\n",
            "Epoch 34/100\n",
            "8/8 [==============================] - 23s 3s/step - loss: 0.3232 - accuracy: 0.8687 - val_loss: 0.9194 - val_accuracy: 0.7031\n",
            "Epoch 35/100\n",
            "8/8 [==============================] - 23s 3s/step - loss: 0.3810 - accuracy: 0.8331 - val_loss: 1.5112 - val_accuracy: 0.6016\n",
            "Epoch 36/100\n",
            "8/8 [==============================] - 23s 3s/step - loss: 0.2856 - accuracy: 0.8843 - val_loss: 1.4154 - val_accuracy: 0.6406\n",
            "Epoch 37/100\n",
            "8/8 [==============================] - 23s 3s/step - loss: 0.3096 - accuracy: 0.8721 - val_loss: 0.1569 - val_accuracy: 0.9531\n",
            "Epoch 38/100\n",
            "8/8 [==============================] - 23s 3s/step - loss: 0.5323 - accuracy: 0.8220 - val_loss: 1.2819 - val_accuracy: 0.6367\n",
            "Epoch 39/100\n",
            "8/8 [==============================] - 24s 3s/step - loss: 0.4283 - accuracy: 0.8287 - val_loss: 1.0793 - val_accuracy: 0.6367\n",
            "Epoch 40/100\n",
            "8/8 [==============================] - 27s 3s/step - loss: 0.2763 - accuracy: 0.8943 - val_loss: 1.4941 - val_accuracy: 0.6211\n",
            "Epoch 41/100\n",
            "8/8 [==============================] - 23s 3s/step - loss: 0.3152 - accuracy: 0.8754 - val_loss: 1.2780 - val_accuracy: 0.6211\n",
            "Epoch 42/100\n",
            "8/8 [==============================] - 23s 3s/step - loss: 0.2654 - accuracy: 0.8977 - val_loss: 1.8733 - val_accuracy: 0.5625\n",
            "Epoch 43/100\n",
            "8/8 [==============================] - 22s 3s/step - loss: 0.3525 - accuracy: 0.8354 - val_loss: 1.2022 - val_accuracy: 0.6680\n",
            "Epoch 44/100\n",
            "8/8 [==============================] - 25s 3s/step - loss: 0.2938 - accuracy: 0.8743 - val_loss: 2.3104 - val_accuracy: 0.5430\n",
            "Epoch 45/100\n",
            "8/8 [==============================] - 22s 3s/step - loss: 0.2779 - accuracy: 0.8754 - val_loss: 1.8432 - val_accuracy: 0.5977\n",
            "Epoch 46/100\n",
            "8/8 [==============================] - 22s 3s/step - loss: 0.2954 - accuracy: 0.8865 - val_loss: 3.2681 - val_accuracy: 0.5156\n",
            "Epoch 47/100\n",
            "8/8 [==============================] - 21s 3s/step - loss: 0.2801 - accuracy: 0.8776 - val_loss: 1.5475 - val_accuracy: 0.6367\n",
            "Epoch 48/100\n",
            "8/8 [==============================] - 24s 3s/step - loss: 0.2839 - accuracy: 0.8818 - val_loss: 1.3949 - val_accuracy: 0.6641\n",
            "Epoch 49/100\n",
            "8/8 [==============================] - 24s 3s/step - loss: 0.2534 - accuracy: 0.8994 - val_loss: 1.9665 - val_accuracy: 0.5898\n",
            "Epoch 50/100\n",
            "8/8 [==============================] - 22s 3s/step - loss: 0.3372 - accuracy: 0.8532 - val_loss: 1.9453 - val_accuracy: 0.6016\n",
            "Epoch 51/100\n",
            "8/8 [==============================] - 22s 3s/step - loss: 0.2468 - accuracy: 0.9043 - val_loss: 2.1492 - val_accuracy: 0.5859\n",
            "Epoch 52/100\n",
            "8/8 [==============================] - 21s 3s/step - loss: 0.2216 - accuracy: 0.9088 - val_loss: 1.1657 - val_accuracy: 0.7188\n",
            "Epoch 53/100\n",
            "8/8 [==============================] - 22s 3s/step - loss: 0.2895 - accuracy: 0.8854 - val_loss: 1.5989 - val_accuracy: 0.6484\n",
            "Epoch 54/100\n",
            "8/8 [==============================] - 21s 3s/step - loss: 0.2504 - accuracy: 0.9010 - val_loss: 1.7501 - val_accuracy: 0.6406\n",
            "Epoch 55/100\n",
            "8/8 [==============================] - 22s 3s/step - loss: 0.2533 - accuracy: 0.8854 - val_loss: 1.4833 - val_accuracy: 0.6641\n",
            "Epoch 56/100\n",
            "8/8 [==============================] - 22s 3s/step - loss: 0.2545 - accuracy: 0.8988 - val_loss: 1.0552 - val_accuracy: 0.7344\n",
            "Epoch 57/100\n",
            "8/8 [==============================] - 22s 3s/step - loss: 0.2778 - accuracy: 0.8843 - val_loss: 1.8455 - val_accuracy: 0.6289\n",
            "Epoch 58/100\n",
            "8/8 [==============================] - 22s 3s/step - loss: 0.2541 - accuracy: 0.9032 - val_loss: 1.8359 - val_accuracy: 0.6328\n",
            "Epoch 59/100\n",
            "8/8 [==============================] - 22s 3s/step - loss: 0.1900 - accuracy: 0.9266 - val_loss: 2.6128 - val_accuracy: 0.5820\n",
            "Epoch 60/100\n",
            "8/8 [==============================] - 22s 3s/step - loss: 0.2720 - accuracy: 0.8788 - val_loss: 2.3804 - val_accuracy: 0.5859\n",
            "Epoch 61/100\n",
            "8/8 [==============================] - 25s 3s/step - loss: 0.2197 - accuracy: 0.9099 - val_loss: 1.4562 - val_accuracy: 0.6602\n",
            "Epoch 62/100\n",
            "8/8 [==============================] - 22s 3s/step - loss: 0.2549 - accuracy: 0.8832 - val_loss: 1.8437 - val_accuracy: 0.6367\n",
            "Epoch 63/100\n",
            "8/8 [==============================] - 22s 3s/step - loss: 0.2060 - accuracy: 0.9188 - val_loss: 2.6584 - val_accuracy: 0.5781\n",
            "Epoch 64/100\n",
            "8/8 [==============================] - 24s 3s/step - loss: 0.2652 - accuracy: 0.8818 - val_loss: 1.7639 - val_accuracy: 0.6406\n",
            "Epoch 65/100\n",
            "8/8 [==============================] - 22s 3s/step - loss: 0.2244 - accuracy: 0.9088 - val_loss: 2.4157 - val_accuracy: 0.6016\n",
            "Epoch 66/100\n",
            "8/8 [==============================] - 22s 3s/step - loss: 0.2487 - accuracy: 0.8921 - val_loss: 1.7832 - val_accuracy: 0.6367\n",
            "Epoch 67/100\n",
            "8/8 [==============================] - 22s 3s/step - loss: 0.2830 - accuracy: 0.8643 - val_loss: 3.0148 - val_accuracy: 0.5273\n",
            "Epoch 68/100\n",
            "8/8 [==============================] - 22s 3s/step - loss: 0.2320 - accuracy: 0.9021 - val_loss: 1.9619 - val_accuracy: 0.6289\n",
            "Epoch 69/100\n",
            "8/8 [==============================] - 25s 3s/step - loss: 0.1684 - accuracy: 0.9414 - val_loss: 1.8619 - val_accuracy: 0.6484\n",
            "Epoch 70/100\n",
            "8/8 [==============================] - 22s 3s/step - loss: 0.2267 - accuracy: 0.9043 - val_loss: 1.3702 - val_accuracy: 0.6875\n",
            "Epoch 71/100\n",
            "8/8 [==============================] - 23s 3s/step - loss: 0.1683 - accuracy: 0.9399 - val_loss: 1.3311 - val_accuracy: 0.7109\n",
            "Epoch 72/100\n",
            "8/8 [==============================] - 29s 4s/step - loss: 0.2449 - accuracy: 0.9053 - val_loss: 1.9779 - val_accuracy: 0.6328\n",
            "Epoch 73/100\n",
            "8/8 [==============================] - 30s 4s/step - loss: 0.1845 - accuracy: 0.9266 - val_loss: 2.5852 - val_accuracy: 0.5977\n",
            "Epoch 74/100\n",
            "8/8 [==============================] - 25s 3s/step - loss: 0.2167 - accuracy: 0.9043 - val_loss: 2.7294 - val_accuracy: 0.5820\n",
            "Epoch 75/100\n",
            "8/8 [==============================] - 26s 3s/step - loss: 0.2185 - accuracy: 0.9102 - val_loss: 1.5690 - val_accuracy: 0.6562\n",
            "Epoch 76/100\n",
            "8/8 [==============================] - 22s 3s/step - loss: 0.1793 - accuracy: 0.9255 - val_loss: 2.1866 - val_accuracy: 0.6367\n",
            "Epoch 77/100\n",
            "8/8 [==============================] - 22s 3s/step - loss: 0.1617 - accuracy: 0.9388 - val_loss: 3.1578 - val_accuracy: 0.5469\n",
            "Epoch 78/100\n",
            "8/8 [==============================] - 22s 3s/step - loss: 0.1572 - accuracy: 0.9321 - val_loss: 0.7293 - val_accuracy: 0.7930\n",
            "Epoch 79/100\n",
            "8/8 [==============================] - 22s 3s/step - loss: 0.2451 - accuracy: 0.9032 - val_loss: 2.4087 - val_accuracy: 0.6172\n",
            "Epoch 80/100\n",
            "8/8 [==============================] - 22s 3s/step - loss: 0.1424 - accuracy: 0.9422 - val_loss: 2.5970 - val_accuracy: 0.6172\n",
            "Epoch 81/100\n",
            "8/8 [==============================] - 22s 3s/step - loss: 0.1629 - accuracy: 0.9355 - val_loss: 2.2831 - val_accuracy: 0.6328\n",
            "Epoch 82/100\n",
            "8/8 [==============================] - 22s 3s/step - loss: 0.1562 - accuracy: 0.9388 - val_loss: 2.7259 - val_accuracy: 0.6172\n",
            "Epoch 83/100\n",
            "8/8 [==============================] - 25s 3s/step - loss: 0.1609 - accuracy: 0.9326 - val_loss: 1.3937 - val_accuracy: 0.7070\n",
            "Epoch 84/100\n",
            "8/8 [==============================] - 22s 3s/step - loss: 0.1864 - accuracy: 0.9266 - val_loss: 2.8363 - val_accuracy: 0.5977\n",
            "Epoch 85/100\n",
            "8/8 [==============================] - 26s 3s/step - loss: 0.1349 - accuracy: 0.9544 - val_loss: 3.4151 - val_accuracy: 0.5742\n",
            "Epoch 86/100\n",
            "8/8 [==============================] - 22s 3s/step - loss: 0.1922 - accuracy: 0.9099 - val_loss: 2.3247 - val_accuracy: 0.6211\n",
            "Epoch 87/100\n",
            "8/8 [==============================] - 22s 3s/step - loss: 0.1763 - accuracy: 0.9288 - val_loss: 4.6145 - val_accuracy: 0.5156\n",
            "Epoch 88/100\n",
            "8/8 [==============================] - 22s 3s/step - loss: 0.2109 - accuracy: 0.9199 - val_loss: 2.3184 - val_accuracy: 0.6328\n",
            "Epoch 89/100\n",
            "8/8 [==============================] - 25s 3s/step - loss: 0.1640 - accuracy: 0.9377 - val_loss: 1.4222 - val_accuracy: 0.6992\n",
            "Epoch 90/100\n",
            "8/8 [==============================] - 22s 3s/step - loss: 0.1450 - accuracy: 0.9422 - val_loss: 3.0575 - val_accuracy: 0.5938\n",
            "Epoch 91/100\n",
            "8/8 [==============================] - 22s 3s/step - loss: 0.1530 - accuracy: 0.9399 - val_loss: 2.4476 - val_accuracy: 0.6367\n",
            "Epoch 92/100\n",
            "8/8 [==============================] - 22s 3s/step - loss: 0.2249 - accuracy: 0.9232 - val_loss: 2.0845 - val_accuracy: 0.6445\n",
            "Epoch 93/100\n",
            "8/8 [==============================] - 22s 3s/step - loss: 0.1254 - accuracy: 0.9544 - val_loss: 2.7305 - val_accuracy: 0.6133\n",
            "Epoch 94/100\n",
            "8/8 [==============================] - 22s 3s/step - loss: 0.3515 - accuracy: 0.8954 - val_loss: 2.9625 - val_accuracy: 0.5898\n",
            "Epoch 95/100\n",
            "8/8 [==============================] - 22s 3s/step - loss: 0.1221 - accuracy: 0.9566 - val_loss: 2.4108 - val_accuracy: 0.6289\n",
            "Epoch 96/100\n",
            "8/8 [==============================] - 22s 3s/step - loss: 0.1346 - accuracy: 0.9544 - val_loss: 3.0791 - val_accuracy: 0.5938\n",
            "Epoch 97/100\n",
            "8/8 [==============================] - 22s 3s/step - loss: 0.1450 - accuracy: 0.9488 - val_loss: 2.2354 - val_accuracy: 0.6250\n",
            "Epoch 98/100\n",
            "8/8 [==============================] - 25s 3s/step - loss: 0.1896 - accuracy: 0.9188 - val_loss: 2.0877 - val_accuracy: 0.6367\n",
            "Epoch 99/100\n",
            "8/8 [==============================] - 22s 3s/step - loss: 0.1496 - accuracy: 0.9422 - val_loss: 3.5635 - val_accuracy: 0.5508\n",
            "Epoch 100/100\n",
            "8/8 [==============================] - 25s 3s/step - loss: 0.1359 - accuracy: 0.9531 - val_loss: 3.1587 - val_accuracy: 0.5859\n"
          ],
          "name": "stdout"
        }
      ]
    },
    {
      "cell_type": "code",
      "metadata": {
        "colab_type": "code",
        "id": "7zNPRWOVJdOH",
        "colab": {
          "base_uri": "https://localhost:8080/",
          "height": 545
        },
        "outputId": "376deeee-8fe7-405b-bfad-a1a638aa2b46"
      },
      "source": [
        "import matplotlib.pyplot as plt\n",
        "acc = history.history['accuracy']\n",
        "val_acc = history.history['val_accuracy']\n",
        "loss = history.history['loss']\n",
        "val_loss = history.history['val_loss']\n",
        "\n",
        "epochs = range(len(acc))\n",
        "\n",
        "plt.plot(epochs, acc, 'r', label='Training accuracy')\n",
        "plt.plot(epochs, val_acc, 'b', label='Validation accuracy')\n",
        "plt.title('Training and validation accuracy')\n",
        "\n",
        "plt.figure()\n",
        "\n",
        "plt.plot(epochs, loss, 'r', label='Training Loss')\n",
        "plt.plot(epochs, val_loss, 'b', label='Validation Loss')\n",
        "plt.title('Training and validation loss')\n",
        "plt.legend()\n",
        "\n",
        "plt.show()"
      ],
      "execution_count": null,
      "outputs": [
        {
          "output_type": "display_data",
          "data": {
            "image/png": "[encoded data removed]",
            "text/plain": [
              "<Figure size 432x288 with 1 Axes>"
            ]
          },
          "metadata": {
            "tags": [],
            "needs_background": "light"
          }
        },
        {
          "output_type": "display_data",
          "data": {
            "image/png": "[encoded data removed]",
            "text/plain": [
              "<Figure size 432x288 with 1 Axes>"
            ]
          },
          "metadata": {
            "tags": [],
            "needs_background": "light"
          }
        }
      ]
    },
    {
      "cell_type": "code",
      "metadata": {
        "id": "4m4xESJ73O-I",
        "colab_type": "code",
        "colab": {}
      },
      "source": [
        ""
      ],
      "execution_count": null,
      "outputs": []
    }
  ]
}