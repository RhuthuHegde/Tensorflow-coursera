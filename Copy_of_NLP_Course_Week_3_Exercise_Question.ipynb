{
  "nbformat": 4,
  "nbformat_minor": 0,
  "metadata": {
    "accelerator": "GPU",
    "colab": {
      "name": "Copy of NLP Course - Week 3 Exercise Question.ipynb",
      "provenance": [],
      "toc_visible": true,
      "include_colab_link": true
    },
    "kernelspec": {
      "display_name": "Python 3",
      "name": "python3"
    }
  },
  "cells": [
    {
      "cell_type": "markdown",
      "metadata": {
        "id": "view-in-github",
        "colab_type": "text"
      },
      "source": [
        "<a href=\"https://colab.research.google.com/github/RhuthuHegde/Tensorflow-coursera/blob/master/Copy_of_NLP_Course_Week_3_Exercise_Question.ipynb\" target=\"_parent\"><img src=\"https://colab.research.google.com/assets/colab-badge.svg\" alt=\"Open In Colab\"/></a>"
      ]
    },
    {
      "cell_type": "code",
      "metadata": {
        "id": "zX4Kg8DUTKWO",
        "colab_type": "code",
        "colab": {}
      },
      "source": [
        "#@title Licensed under the Apache License, Version 2.0 (the \"License\");\n",
        "# you may not use this file except in compliance with the License.\n",
        "# You may obtain a copy of the License at\n",
        "#\n",
        "# https://www.apache.org/licenses/LICENSE-2.0\n",
        "#\n",
        "# Unless required by applicable law or agreed to in writing, software\n",
        "# distributed under the License is distributed on an \"AS IS\" BASIS,\n",
        "# WITHOUT WARRANTIES OR CONDITIONS OF ANY KIND, either express or implied.\n",
        "# See the License for the specific language governing permissions and\n",
        "# limitations under the License."
      ],
      "execution_count": null,
      "outputs": []
    },
    {
      "cell_type": "code",
      "metadata": {
        "colab_type": "code",
        "id": "hmA6EzkQJ5jt",
        "colab": {}
      },
      "source": [
        "import json\n",
        "import tensorflow as tf\n",
        "import csv\n",
        "import random\n",
        "import numpy as np\n",
        "\n",
        "from tensorflow.keras.preprocessing.text import Tokenizer\n",
        "from tensorflow.keras.preprocessing.sequence import pad_sequences\n",
        "from tensorflow.keras.utils import to_categorical\n",
        "from tensorflow.keras import regularizers\n",
        "\n",
        "\n",
        "embedding_dim = 100\n",
        "max_length = 16\n",
        "trunc_type='post'\n",
        "padding_type='post'\n",
        "oov_tok = \"<OOV>\"\n",
        "training_size= 160000#Your dataset size here. Experiment using smaller values (i.e. 16000), but don't forget to train on at least 160000 to see the best effects\n",
        "test_portion=.1\n",
        "\n",
        "corpus = []\n"
      ],
      "execution_count": null,
      "outputs": []
    },
    {
      "cell_type": "code",
      "metadata": {
        "colab_type": "code",
        "id": "bM0l_dORKqE0",
        "colab": {
          "base_uri": "https://localhost:8080/",
          "height": 204
        },
        "outputId": "0cba125d-9d57-4ec5-9ef6-36e9c48d400b"
      },
      "source": [
        "# Note that I cleaned the Stanford dataset to remove LATIN1 encoding to make it easier for Python CSV reader\n",
        "# You can do that yourself with:\n",
        "# iconv -f LATIN1 -t UTF8 training.1600000.processed.noemoticon.csv -o training_cleaned.csv\n",
        "# I then hosted it on my site to make it easier to use in this notebook\n",
        "\n",
        "!wget --no-check-certificate \\\n",
        "    https://storage.googleapis.com/laurencemoroney-blog.appspot.com/training_cleaned.csv \\\n",
        "    -O /tmp/training_cleaned.csv\n",
        "\n",
        "num_sentences = 0\n",
        "\n",
        "with open(\"/tmp/training_cleaned.csv\") as csvfile:\n",
        "    reader = csv.reader(csvfile, delimiter=',')\n",
        "    for row in reader:\n",
        "      # Your Code here. Create list items where the first item is the text, found in row[5], and the second is the label. Note that the label is a '0' or a '4' in the text. When it's the former, make\n",
        "      # your label to be 0, otherwise 1. Keep a count of the number of sentences in num_sentences\n",
        "        list_item=[]\n",
        "        # YOUR CODE HERE\n",
        "        list_item.append(row[5])\n",
        "        label=row[0]\n",
        "        if label=='0':\n",
        "          list_item.append(0)\n",
        "        else:\n",
        "          list_item.append(1)\n",
        "        num_sentences = num_sentences + 1\n",
        "        corpus.append(list_item)\n"
      ],
      "execution_count": null,
      "outputs": [
        {
          "output_type": "stream",
          "text": [
            "--2020-08-04 06:32:42--  https://storage.googleapis.com/laurencemoroney-blog.appspot.com/training_cleaned.csv\n",
            "Resolving storage.googleapis.com (storage.googleapis.com)... 74.125.204.128, 64.233.187.128, 108.177.97.128, ...\n",
            "Connecting to storage.googleapis.com (storage.googleapis.com)|74.125.204.128|:443... connected.\n",
            "HTTP request sent, awaiting response... 200 OK\n",
            "Length: 238942690 (228M) [application/octet-stream]\n",
            "Saving to: ‘/tmp/training_cleaned.csv’\n",
            "\n",
            "/tmp/training_clean 100%[===================>] 227.87M  39.1MB/s    in 5.8s    \n",
            "\n",
            "2020-08-04 06:32:48 (39.1 MB/s) - ‘/tmp/training_cleaned.csv’ saved [238942690/238942690]\n",
            "\n"
          ],
          "name": "stdout"
        }
      ]
    },
    {
      "cell_type": "code",
      "metadata": {
        "colab_type": "code",
        "id": "3kxblBUjEUX-",
        "colab": {
          "base_uri": "https://localhost:8080/",
          "height": 68
        },
        "outputId": "25476ab4-7644-48cc-9c33-6c2b036c5ecf"
      },
      "source": [
        "print(num_sentences)\n",
        "print(len(corpus))\n",
        "print(corpus[1])\n",
        "\n",
        "# Expected Output:\n",
        "# 1600000\n",
        "# 1600000\n",
        "# [\"is upset that he can't update his Facebook by texting it... and might cry as a result  School today also. Blah!\", 0]"
      ],
      "execution_count": null,
      "outputs": [
        {
          "output_type": "stream",
          "text": [
            "1600000\n",
            "1600000\n",
            "[\"is upset that he can't update his Facebook by texting it... and might cry as a result  School today also. Blah!\", 0]\n"
          ],
          "name": "stdout"
        }
      ]
    },
    {
      "cell_type": "code",
      "metadata": {
        "colab_type": "code",
        "id": "ohOGz24lsNAD",
        "colab": {}
      },
      "source": [
        "sentences=[]\n",
        "labels=[]\n",
        "random.shuffle(corpus)\n",
        "for x in range(training_size):\n",
        "    sentences.append(corpus[x][0])\n",
        "    labels.append(corpus[x][1])\n",
        "\n",
        "\n",
        "tokenizer = Tokenizer()\n",
        "tokenizer.fit_on_texts(sentences)\n",
        "\n",
        "word_index = tokenizer.word_index\n",
        "vocab_size=len(word_index)\n",
        "\n",
        "sequences = tokenizer.texts_to_sequences(sentences)\n",
        "padded = pad_sequences(sequences,maxlen=max_length,padding=padding_type,truncating=trunc_type)\n",
        "\n",
        "split = int(test_portion * training_size)\n",
        "\n",
        "test_sequences = padded[split:training_size]\n",
        "training_sequences = padded[0:split]\n",
        "test_labels = labels[split:training_size]\n",
        "training_labels = labels[0:split]"
      ],
      "execution_count": null,
      "outputs": []
    },
    {
      "cell_type": "code",
      "metadata": {
        "colab_type": "code",
        "id": "gIrtRem1En3N",
        "colab": {
          "base_uri": "https://localhost:8080/",
          "height": 51
        },
        "outputId": "1c4a4bdc-2f52-4a4b-efff-fe52f9a7e9d4"
      },
      "source": [
        "print(vocab_size)\n",
        "print(word_index['i'])\n",
        "# Expected Output\n",
        "# 138858\n",
        "# 1"
      ],
      "execution_count": null,
      "outputs": [
        {
          "output_type": "stream",
          "text": [
            "138338\n",
            "1\n"
          ],
          "name": "stdout"
        }
      ]
    },
    {
      "cell_type": "code",
      "metadata": {
        "colab_type": "code",
        "id": "C1zdgJkusRh0",
        "colab": {
          "base_uri": "https://localhost:8080/",
          "height": 204
        },
        "outputId": "c98d580c-57f4-419d-a761-1bb22d664e1c"
      },
      "source": [
        "# Note this is the 100 dimension version of GloVe from Stanford\n",
        "# I unzipped and hosted it on my site to make this notebook easier\n",
        "!wget --no-check-certificate \\\n",
        "    https://storage.googleapis.com/laurencemoroney-blog.appspot.com/glove.6B.100d.txt \\\n",
        "    -O /tmp/glove.6B.100d.txt\n",
        "embeddings_index = {};\n",
        "with open('/tmp/glove.6B.100d.txt') as f:\n",
        "    for line in f:\n",
        "        values = line.split();\n",
        "        word = values[0];\n",
        "        coefs = np.asarray(values[1:], dtype='float32');\n",
        "        embeddings_index[word] = coefs;\n",
        "\n",
        "embeddings_matrix = np.zeros((vocab_size+1, embedding_dim));\n",
        "for word, i in word_index.items():\n",
        "    embedding_vector = embeddings_index.get(word);\n",
        "    if embedding_vector is not None:\n",
        "        embeddings_matrix[i] = embedding_vector;"
      ],
      "execution_count": null,
      "outputs": [
        {
          "output_type": "stream",
          "text": [
            "--2020-08-04 06:39:43--  https://storage.googleapis.com/laurencemoroney-blog.appspot.com/glove.6B.100d.txt\n",
            "Resolving storage.googleapis.com (storage.googleapis.com)... 108.177.97.128, 74.125.203.128, 74.125.204.128, ...\n",
            "Connecting to storage.googleapis.com (storage.googleapis.com)|108.177.97.128|:443... connected.\n",
            "HTTP request sent, awaiting response... 200 OK\n",
            "Length: 347116733 (331M) [text/plain]\n",
            "Saving to: ‘/tmp/glove.6B.100d.txt’\n",
            "\n",
            "/tmp/glove.6B.100d. 100%[===================>] 331.04M  46.3MB/s    in 8.4s    \n",
            "\n",
            "2020-08-04 06:39:52 (39.6 MB/s) - ‘/tmp/glove.6B.100d.txt’ saved [347116733/347116733]\n",
            "\n"
          ],
          "name": "stdout"
        }
      ]
    },
    {
      "cell_type": "code",
      "metadata": {
        "colab_type": "code",
        "id": "71NLk_lpFLNt",
        "colab": {
          "base_uri": "https://localhost:8080/",
          "height": 34
        },
        "outputId": "fafb7d64-d3b1-4e36-da55-20e6fcf2df28"
      },
      "source": [
        "print(len(embeddings_matrix))\n",
        "# Expected Output\n",
        "# 138859"
      ],
      "execution_count": null,
      "outputs": [
        {
          "output_type": "stream",
          "text": [
            "138339\n"
          ],
          "name": "stdout"
        }
      ]
    },
    {
      "cell_type": "code",
      "metadata": {
        "colab_type": "code",
        "id": "iKKvbuEBOGFz",
        "colab": {
          "base_uri": "https://localhost:8080/",
          "height": 1000
        },
        "outputId": "a035ae4e-ae2c-4211-ff6a-7695fe7b00fa"
      },
      "source": [
        "model = tf.keras.Sequential([\n",
        "    tf.keras.layers.Embedding(vocab_size+1, embedding_dim, input_length=max_length, weights=[embeddings_matrix], trainable=False),\n",
        "    tf.keras.layers.Conv1D(64,kernel_size=5,activation='relu'),\n",
        "    tf.keras.layers.LSTM(64),\n",
        "    tf.keras.layers.Dense(64,activation='relu'),\n",
        "    tf.keras.layers.Dense(1,activation='sigmoid')\n",
        "\n",
        "\n",
        "    # YOUR CODE HERE - experiment with combining different types, such as convolutions and LSTMs\n",
        "])\n",
        "model.compile(loss='binary_crossentropy',optimizer='adam',metrics=['accuracy'])\n",
        "model.summary()\n",
        "\n",
        "num_epochs = 50\n",
        "\n",
        "training_sequences=np.array(training_sequences)\n",
        "training_labels=np.array(training_labels)\n",
        "test_sequences=np.array(test_sequences)\n",
        "test_labels=np.array(test_labels)\n",
        "\n",
        "history = model.fit(training_sequences, training_labels, epochs=num_epochs, validation_data=(test_sequences, test_labels), verbose=2)\n",
        "\n",
        "print(\"Training Complete\")\n"
      ],
      "execution_count": null,
      "outputs": [
        {
          "output_type": "stream",
          "text": [
            "Model: \"sequential_2\"\n",
            "_________________________________________________________________\n",
            "Layer (type)                 Output Shape              Param #   \n",
            "=================================================================\n",
            "embedding_2 (Embedding)      (None, 16, 100)           13833900  \n",
            "_________________________________________________________________\n",
            "conv1d_2 (Conv1D)            (None, 12, 64)            32064     \n",
            "_________________________________________________________________\n",
            "lstm_2 (LSTM)                (None, 64)                33024     \n",
            "_________________________________________________________________\n",
            "dense_3 (Dense)              (None, 64)                4160      \n",
            "_________________________________________________________________\n",
            "dense_4 (Dense)              (None, 1)                 65        \n",
            "=================================================================\n",
            "Total params: 13,903,213\n",
            "Trainable params: 69,313\n",
            "Non-trainable params: 13,833,900\n",
            "_________________________________________________________________\n",
            "Epoch 1/50\n",
            "500/500 - 16s - loss: 0.6289 - accuracy: 0.6386 - val_loss: 0.5809 - val_accuracy: 0.6995\n",
            "Epoch 2/50\n",
            "500/500 - 15s - loss: 0.5596 - accuracy: 0.7093 - val_loss: 0.5652 - val_accuracy: 0.7115\n",
            "Epoch 3/50\n",
            "500/500 - 15s - loss: 0.5190 - accuracy: 0.7401 - val_loss: 0.5569 - val_accuracy: 0.7090\n",
            "Epoch 4/50\n",
            "500/500 - 15s - loss: 0.4752 - accuracy: 0.7663 - val_loss: 0.5661 - val_accuracy: 0.7126\n",
            "Epoch 5/50\n",
            "500/500 - 15s - loss: 0.4257 - accuracy: 0.7988 - val_loss: 0.5984 - val_accuracy: 0.7005\n",
            "Epoch 6/50\n",
            "500/500 - 15s - loss: 0.3710 - accuracy: 0.8327 - val_loss: 0.6500 - val_accuracy: 0.7015\n",
            "Epoch 7/50\n",
            "500/500 - 15s - loss: 0.3205 - accuracy: 0.8591 - val_loss: 0.7602 - val_accuracy: 0.6911\n",
            "Epoch 8/50\n",
            "500/500 - 16s - loss: 0.2784 - accuracy: 0.8815 - val_loss: 0.7347 - val_accuracy: 0.6928\n",
            "Epoch 9/50\n",
            "500/500 - 15s - loss: 0.2360 - accuracy: 0.9024 - val_loss: 0.8336 - val_accuracy: 0.6951\n",
            "Epoch 10/50\n",
            "500/500 - 15s - loss: 0.2020 - accuracy: 0.9183 - val_loss: 0.9110 - val_accuracy: 0.6879\n",
            "Epoch 11/50\n",
            "500/500 - 16s - loss: 0.1786 - accuracy: 0.9298 - val_loss: 0.9420 - val_accuracy: 0.6836\n",
            "Epoch 12/50\n",
            "500/500 - 15s - loss: 0.1502 - accuracy: 0.9419 - val_loss: 1.1485 - val_accuracy: 0.6760\n",
            "Epoch 13/50\n",
            "500/500 - 15s - loss: 0.1355 - accuracy: 0.9473 - val_loss: 1.0244 - val_accuracy: 0.6836\n",
            "Epoch 14/50\n",
            "500/500 - 15s - loss: 0.1155 - accuracy: 0.9559 - val_loss: 1.2006 - val_accuracy: 0.6833\n",
            "Epoch 15/50\n",
            "500/500 - 15s - loss: 0.1094 - accuracy: 0.9574 - val_loss: 1.1968 - val_accuracy: 0.6871\n",
            "Epoch 16/50\n",
            "500/500 - 15s - loss: 0.0922 - accuracy: 0.9659 - val_loss: 1.3746 - val_accuracy: 0.6830\n",
            "Epoch 17/50\n",
            "500/500 - 15s - loss: 0.0845 - accuracy: 0.9704 - val_loss: 1.4111 - val_accuracy: 0.6817\n",
            "Epoch 18/50\n",
            "500/500 - 15s - loss: 0.0781 - accuracy: 0.9711 - val_loss: 1.6172 - val_accuracy: 0.6872\n",
            "Epoch 19/50\n",
            "500/500 - 15s - loss: 0.0692 - accuracy: 0.9749 - val_loss: 1.6491 - val_accuracy: 0.6882\n",
            "Epoch 20/50\n",
            "500/500 - 15s - loss: 0.0667 - accuracy: 0.9743 - val_loss: 1.7761 - val_accuracy: 0.6703\n",
            "Epoch 21/50\n",
            "500/500 - 15s - loss: 0.0698 - accuracy: 0.9735 - val_loss: 1.5550 - val_accuracy: 0.6696\n",
            "Epoch 22/50\n",
            "500/500 - 15s - loss: 0.0626 - accuracy: 0.9764 - val_loss: 1.6563 - val_accuracy: 0.6777\n",
            "Epoch 23/50\n",
            "500/500 - 15s - loss: 0.0565 - accuracy: 0.9793 - val_loss: 1.8765 - val_accuracy: 0.6832\n",
            "Epoch 24/50\n",
            "500/500 - 15s - loss: 0.0578 - accuracy: 0.9781 - val_loss: 1.8282 - val_accuracy: 0.6832\n",
            "Epoch 25/50\n",
            "500/500 - 15s - loss: 0.0582 - accuracy: 0.9788 - val_loss: 1.4647 - val_accuracy: 0.6781\n",
            "Epoch 26/50\n",
            "500/500 - 15s - loss: 0.0472 - accuracy: 0.9830 - val_loss: 1.8739 - val_accuracy: 0.6763\n",
            "Epoch 27/50\n",
            "500/500 - 15s - loss: 0.0470 - accuracy: 0.9833 - val_loss: 1.9677 - val_accuracy: 0.6872\n",
            "Epoch 28/50\n",
            "500/500 - 16s - loss: 0.0534 - accuracy: 0.9808 - val_loss: 1.9521 - val_accuracy: 0.6845\n",
            "Epoch 29/50\n",
            "500/500 - 15s - loss: 0.0487 - accuracy: 0.9822 - val_loss: 1.8276 - val_accuracy: 0.6852\n",
            "Epoch 30/50\n",
            "500/500 - 15s - loss: 0.0415 - accuracy: 0.9838 - val_loss: 1.8980 - val_accuracy: 0.6842\n",
            "Epoch 31/50\n",
            "500/500 - 15s - loss: 0.0432 - accuracy: 0.9838 - val_loss: 1.8703 - val_accuracy: 0.6767\n",
            "Epoch 32/50\n",
            "500/500 - 16s - loss: 0.0406 - accuracy: 0.9849 - val_loss: 1.9224 - val_accuracy: 0.6766\n",
            "Epoch 33/50\n",
            "500/500 - 15s - loss: 0.0347 - accuracy: 0.9867 - val_loss: 2.2821 - val_accuracy: 0.6799\n",
            "Epoch 34/50\n",
            "500/500 - 15s - loss: 0.0427 - accuracy: 0.9837 - val_loss: 1.9411 - val_accuracy: 0.6836\n",
            "Epoch 35/50\n",
            "500/500 - 15s - loss: 0.0351 - accuracy: 0.9870 - val_loss: 2.2292 - val_accuracy: 0.6896\n",
            "Epoch 36/50\n",
            "500/500 - 15s - loss: 0.0368 - accuracy: 0.9870 - val_loss: 2.2968 - val_accuracy: 0.6800\n",
            "Epoch 37/50\n",
            "500/500 - 15s - loss: 0.0332 - accuracy: 0.9879 - val_loss: 1.8972 - val_accuracy: 0.6741\n",
            "Epoch 38/50\n",
            "500/500 - 15s - loss: 0.0437 - accuracy: 0.9832 - val_loss: 1.9506 - val_accuracy: 0.6801\n",
            "Epoch 39/50\n",
            "500/500 - 15s - loss: 0.0301 - accuracy: 0.9884 - val_loss: 2.1358 - val_accuracy: 0.6809\n",
            "Epoch 40/50\n",
            "500/500 - 15s - loss: 0.0285 - accuracy: 0.9896 - val_loss: 2.3000 - val_accuracy: 0.6804\n",
            "Epoch 41/50\n",
            "500/500 - 15s - loss: 0.0372 - accuracy: 0.9862 - val_loss: 2.0206 - val_accuracy: 0.6795\n",
            "Epoch 42/50\n",
            "500/500 - 15s - loss: 0.0285 - accuracy: 0.9894 - val_loss: 2.2214 - val_accuracy: 0.6852\n",
            "Epoch 43/50\n",
            "500/500 - 15s - loss: 0.0274 - accuracy: 0.9900 - val_loss: 2.2889 - val_accuracy: 0.6836\n",
            "Epoch 44/50\n",
            "500/500 - 15s - loss: 0.0301 - accuracy: 0.9881 - val_loss: 1.9178 - val_accuracy: 0.6849\n",
            "Epoch 45/50\n",
            "500/500 - 15s - loss: 0.0405 - accuracy: 0.9841 - val_loss: 2.1599 - val_accuracy: 0.6831\n",
            "Epoch 46/50\n",
            "500/500 - 15s - loss: 0.0339 - accuracy: 0.9872 - val_loss: 2.0490 - val_accuracy: 0.6836\n",
            "Epoch 47/50\n",
            "500/500 - 15s - loss: 0.0245 - accuracy: 0.9914 - val_loss: 2.2080 - val_accuracy: 0.6846\n",
            "Epoch 48/50\n",
            "500/500 - 15s - loss: 0.0280 - accuracy: 0.9892 - val_loss: 1.9656 - val_accuracy: 0.6779\n",
            "Epoch 49/50\n",
            "500/500 - 15s - loss: 0.0328 - accuracy: 0.9879 - val_loss: 2.1367 - val_accuracy: 0.6838\n",
            "Epoch 50/50\n",
            "500/500 - 15s - loss: 0.0254 - accuracy: 0.9903 - val_loss: 2.1045 - val_accuracy: 0.6852\n",
            "Training Complete\n"
          ],
          "name": "stdout"
        }
      ]
    },
    {
      "cell_type": "code",
      "metadata": {
        "colab_type": "code",
        "id": "qxju4ItJKO8F",
        "colab": {
          "base_uri": "https://localhost:8080/",
          "height": 607
        },
        "outputId": "fa1c759d-766e-485d-8332-b9b039cdb8af"
      },
      "source": [
        "import matplotlib.image  as mpimg\n",
        "import matplotlib.pyplot as plt\n",
        "\n",
        "#-----------------------------------------------------------\n",
        "# Retrieve a list of list results on training and test data\n",
        "# sets for each training epoch\n",
        "#-----------------------------------------------------------\n",
        "acc=history.history['accuracy']\n",
        "val_acc=history.history['val_accuracy']\n",
        "loss=history.history['loss']\n",
        "val_loss=history.history['val_loss']\n",
        "\n",
        "epochs=range(len(acc)) # Get number of epochs\n",
        "\n",
        "#------------------------------------------------\n",
        "# Plot training and validation accuracy per epoch\n",
        "#------------------------------------------------\n",
        "plt.plot(epochs, acc, 'r')\n",
        "plt.plot(epochs, val_acc, 'b')\n",
        "plt.title('Training and validation accuracy')\n",
        "plt.xlabel(\"Epochs\")\n",
        "plt.ylabel(\"Accuracy\")\n",
        "plt.legend([\"Accuracy\", \"Validation Accuracy\"])\n",
        "\n",
        "plt.figure()\n",
        "\n",
        "#------------------------------------------------\n",
        "# Plot training and validation loss per epoch\n",
        "#------------------------------------------------\n",
        "plt.plot(epochs, loss, 'r')\n",
        "plt.plot(epochs, val_loss, 'b')\n",
        "plt.title('Training and validation loss')\n",
        "plt.xlabel(\"Epochs\")\n",
        "plt.ylabel(\"Loss\")\n",
        "plt.legend([\"Loss\", \"Validation Loss\"])\n",
        "\n",
        "plt.figure()\n",
        "\n",
        "\n",
        "# Expected Output\n",
        "# A chart where the validation loss does not increase sharply!"
      ],
      "execution_count": null,
      "outputs": [
        {
          "output_type": "execute_result",
          "data": {
            "text/plain": [
              "<Figure size 432x288 with 0 Axes>"
            ]
          },
          "metadata": {
            "tags": []
          },
          "execution_count": 13
        },
        {
          "output_type": "display_data",
          "data": {
            "image/png": "[encoded data removed]",
            "text/plain": [
              "<Figure size 432x288 with 1 Axes>"
            ]
          },
          "metadata": {
            "tags": [],
            "needs_background": "light"
          }
        },
        {
          "output_type": "display_data",
          "data": {
            "image/png": "[encoded data removed]",
            "text/plain": [
              "<Figure size 432x288 with 1 Axes>"
            ]
          },
          "metadata": {
            "tags": [],
            "needs_background": "light"
          }
        },
        {
          "output_type": "display_data",
          "data": {
            "text/plain": [
              "<Figure size 432x288 with 0 Axes>"
            ]
          },
          "metadata": {
            "tags": []
          }
        }
      ]
    },
    {
      "cell_type": "code",
      "metadata": {
        "id": "V-ZM-adGVXsB",
        "colab_type": "code",
        "colab": {}
      },
      "source": [
        ""
      ],
      "execution_count": null,
      "outputs": []
    }
  ]
}